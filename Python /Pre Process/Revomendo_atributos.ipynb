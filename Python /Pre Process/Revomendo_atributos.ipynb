{
 "cells": [
  {
   "cell_type": "code",
   "execution_count": 1,
   "metadata": {},
   "outputs": [],
   "source": [
    "import pandas as pd \n",
    "import os "
   ]
  },
  {
   "cell_type": "code",
   "execution_count": 2,
   "metadata": {},
   "outputs": [],
   "source": [
    "# Obtendo o diretório atual do script\n",
    "diretorio_atual = os.path.dirname(os.path.abspath('__file__'))\n",
    "\n",
    "# Construindo o caminho para o arquivo CSV usando o caminho relativo\n",
    "caminho = os.path.join(diretorio_atual,'..','..','..','..','Data', 'Bases Modificadas', 'df_sem_outliers.csv')\n",
    "\n",
    "# Carregando o arquivo CSV\n",
    "df = pd.read_csv(caminho)"
   ]
  },
  {
   "cell_type": "code",
   "execution_count": 3,
   "metadata": {},
   "outputs": [
    {
     "data": {
      "text/plain": [
       "Index(['Sexo', 'Apoio_Familiar', 'Apoio_de_Amigos', 'Tipo_de_Trabalho',\n",
       "       'Curso_Mais_Elevado', 'Diagnostico_Depressao', 'Estado_de_Saude',\n",
       "       'Pratica_Exercicio', 'Exercicio_Mais_Frequente',\n",
       "       'Ultima_Consulta_Medica', 'Procura_Atendimento_Saude', 'Problemas_Sono',\n",
       "       'peso_consolidado(KG)', 'altura_consolidada(CM)', 'IMC', 'renda_total',\n",
       "       'idade', 'trabalhou', 'horas_trabalhadas_total', 'doencas_cronicas',\n",
       "       'saneamento_basico', 'moradia_vulneravel', 'tempo_total_exercicio',\n",
       "       'frequencia_exercicio', 'freq_bebida_alcoolica',\n",
       "       'Consumo de Graos e Tuberculos', 'Consumo de Leguminosas',\n",
       "       'Consumo de Carnes', 'Consumo de Ovos', 'Consumo de Verduras e Legumes',\n",
       "       'Consumo de Frutas', 'Consumo de Laticinios', 'Consumo de Oleaginosas',\n",
       "       'Consumo de Refrigerantes', 'Consumo de Sucos Industrializados',\n",
       "       'Consumo de Sucos Naturais', 'Consumo de Bebidas Lacteas',\n",
       "       'Consumo de Salgadinhos e Biscoitos Salgados',\n",
       "       'Consumo de Doces e Sobremesas Industrializadas',\n",
       "       'Consumo de Embutidos e Alimentos Processados',\n",
       "       'Consumo de Paes Industrializados',\n",
       "       'Consumo de Molhos Industrializados',\n",
       "       'Substituicao de Refeicoes por Lanches Rapidos', 'Consumo de Sal'],\n",
       "      dtype='object')"
      ]
     },
     "execution_count": 3,
     "metadata": {},
     "output_type": "execute_result"
    }
   ],
   "source": [
    "df.columns"
   ]
  },
  {
   "cell_type": "code",
   "execution_count": 4,
   "metadata": {},
   "outputs": [
    {
     "name": "stdout",
     "output_type": "stream",
     "text": [
      "Colunas removidas com sucesso.\n"
     ]
    }
   ],
   "source": [
    "# Lista de colunas a serem removidas\n",
    "colunas_para_remover = [\n",
    "    'horas_trabalhadas_total',   \n",
    "    'Ultima_Consulta_Medica', \n",
    "    'saneamento_basico'\n",
    "]\n",
    "\n",
    "# Verificando se todas as colunas para remover estão no DataFrame\n",
    "colunas_existem = all(coluna in df.columns for coluna in colunas_para_remover)\n",
    "if colunas_existem:\n",
    "    # Removendo as colunas do DataFrame\n",
    "    df = df.drop(columns=colunas_para_remover)\n",
    "    print(\"Colunas removidas com sucesso.\")\n",
    "else:\n",
    "    colunas_faltando = [coluna for coluna in colunas_para_remover if coluna not in df.columns]\n",
    "    print(f\"As seguintes colunas não foram encontradas no DataFrame: {colunas_faltando}\")"
   ]
  },
  {
   "cell_type": "code",
   "execution_count": 5,
   "metadata": {},
   "outputs": [
    {
     "name": "stdout",
     "output_type": "stream",
     "text": [
      "Salvo com sucesso!\n"
     ]
    }
   ],
   "source": [
    "# Construindo o caminho para o arquivo CSV usando o caminho relativo\n",
    "caminho = os.path.join(diretorio_atual,'..','..','..' ,'..','Data','Bases Modificadas', 'correlacoes_entopia_removido.csv')\n",
    "\n",
    "# Exportando o arquivo CSV\n",
    "df.to_csv(caminho, index= False)\n",
    "\n",
    "print(\"Salvo com sucesso!\")"
   ]
  },
  {
   "cell_type": "code",
   "execution_count": null,
   "metadata": {},
   "outputs": [],
   "source": []
  }
 ],
 "metadata": {
  "kernelspec": {
   "display_name": "Python 3",
   "language": "python",
   "name": "python3"
  },
  "language_info": {
   "codemirror_mode": {
    "name": "ipython",
    "version": 3
   },
   "file_extension": ".py",
   "mimetype": "text/x-python",
   "name": "python",
   "nbconvert_exporter": "python",
   "pygments_lexer": "ipython3",
   "version": "3.11.9"
  }
 },
 "nbformat": 4,
 "nbformat_minor": 2
}
