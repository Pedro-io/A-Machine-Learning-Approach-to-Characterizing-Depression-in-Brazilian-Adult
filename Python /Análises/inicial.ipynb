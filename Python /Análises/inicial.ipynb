{
 "cells": [
  {
   "cell_type": "markdown",
   "metadata": {},
   "source": [
    "# Análise Inicial dos Dados Gerais "
   ]
  },
  {
   "cell_type": "code",
   "execution_count": 1,
   "metadata": {},
   "outputs": [],
   "source": [
    "# Importando Bibliotecas\n",
    "import pandas as pd\n",
    "import os"
   ]
  },
  {
   "cell_type": "code",
   "execution_count": 17,
   "metadata": {},
   "outputs": [],
   "source": [
    "# Obtendo o diretório atual do script\n",
    "diretorio_atual = os.path.dirname(os.path.abspath('__file__'))\n",
    "\n",
    "# Construindo o caminho para o arquivo CSV usando o caminho relativo\n",
    "caminho = os.path.join(diretorio_atual,'..','..','..' ,'Data', 'pns2019', 'pns2019.csv')\n",
    "\n",
    "# Carregando o arquivo CSV\n",
    "df_original = pd.read_csv(caminho)"
   ]
  },
  {
   "cell_type": "code",
   "execution_count": 18,
   "metadata": {},
   "outputs": [
    {
     "name": "stdout",
     "output_type": "stream",
     "text": [
      "Primeiras linhas do DataFrame:\n"
     ]
    },
    {
     "data": {
      "text/html": [
       "<div>\n",
       "<style scoped>\n",
       "    .dataframe tbody tr th:only-of-type {\n",
       "        vertical-align: middle;\n",
       "    }\n",
       "\n",
       "    .dataframe tbody tr th {\n",
       "        vertical-align: top;\n",
       "    }\n",
       "\n",
       "    .dataframe thead th {\n",
       "        text-align: right;\n",
       "    }\n",
       "</style>\n",
       "<table border=\"1\" class=\"dataframe\">\n",
       "  <thead>\n",
       "    <tr style=\"text-align: right;\">\n",
       "      <th></th>\n",
       "      <th>V0001</th>\n",
       "      <th>V0024</th>\n",
       "      <th>UPA_PNS</th>\n",
       "      <th>V0006_PNS</th>\n",
       "      <th>V0015</th>\n",
       "      <th>V0020</th>\n",
       "      <th>V0022</th>\n",
       "      <th>V0026</th>\n",
       "      <th>V0031</th>\n",
       "      <th>V0025A</th>\n",
       "      <th>...</th>\n",
       "      <th>VDE002</th>\n",
       "      <th>VDE014</th>\n",
       "      <th>VDF002</th>\n",
       "      <th>VDF003</th>\n",
       "      <th>VDF004</th>\n",
       "      <th>VDL001</th>\n",
       "      <th>VDM001</th>\n",
       "      <th>VDP001</th>\n",
       "      <th>VDR001</th>\n",
       "      <th>VDDATA</th>\n",
       "    </tr>\n",
       "  </thead>\n",
       "  <tbody>\n",
       "    <tr>\n",
       "      <th>0</th>\n",
       "      <td>11</td>\n",
       "      <td>1110011</td>\n",
       "      <td>110000016</td>\n",
       "      <td>1</td>\n",
       "      <td>1</td>\n",
       "      <td>2019</td>\n",
       "      <td>6.0</td>\n",
       "      <td>1</td>\n",
       "      <td>1</td>\n",
       "      <td>1.0</td>\n",
       "      <td>...</td>\n",
       "      <td>1.0</td>\n",
       "      <td>6.0</td>\n",
       "      <td>2098.0</td>\n",
       "      <td>350.0</td>\n",
       "      <td>2.0</td>\n",
       "      <td>NaN</td>\n",
       "      <td>NaN</td>\n",
       "      <td>NaN</td>\n",
       "      <td>NaN</td>\n",
       "      <td>20210825</td>\n",
       "    </tr>\n",
       "    <tr>\n",
       "      <th>1</th>\n",
       "      <td>11</td>\n",
       "      <td>1110011</td>\n",
       "      <td>110000016</td>\n",
       "      <td>1</td>\n",
       "      <td>1</td>\n",
       "      <td>2019</td>\n",
       "      <td>6.0</td>\n",
       "      <td>1</td>\n",
       "      <td>1</td>\n",
       "      <td>0.0</td>\n",
       "      <td>...</td>\n",
       "      <td>NaN</td>\n",
       "      <td>NaN</td>\n",
       "      <td>2098.0</td>\n",
       "      <td>350.0</td>\n",
       "      <td>2.0</td>\n",
       "      <td>NaN</td>\n",
       "      <td>NaN</td>\n",
       "      <td>NaN</td>\n",
       "      <td>NaN</td>\n",
       "      <td>20210825</td>\n",
       "    </tr>\n",
       "    <tr>\n",
       "      <th>2</th>\n",
       "      <td>11</td>\n",
       "      <td>1110011</td>\n",
       "      <td>110000016</td>\n",
       "      <td>1</td>\n",
       "      <td>1</td>\n",
       "      <td>2019</td>\n",
       "      <td>6.0</td>\n",
       "      <td>1</td>\n",
       "      <td>1</td>\n",
       "      <td>0.0</td>\n",
       "      <td>...</td>\n",
       "      <td>1.0</td>\n",
       "      <td>4.0</td>\n",
       "      <td>2098.0</td>\n",
       "      <td>350.0</td>\n",
       "      <td>2.0</td>\n",
       "      <td>NaN</td>\n",
       "      <td>NaN</td>\n",
       "      <td>NaN</td>\n",
       "      <td>NaN</td>\n",
       "      <td>20210825</td>\n",
       "    </tr>\n",
       "    <tr>\n",
       "      <th>3</th>\n",
       "      <td>11</td>\n",
       "      <td>1110011</td>\n",
       "      <td>110000016</td>\n",
       "      <td>1</td>\n",
       "      <td>1</td>\n",
       "      <td>2019</td>\n",
       "      <td>6.0</td>\n",
       "      <td>1</td>\n",
       "      <td>1</td>\n",
       "      <td>9.0</td>\n",
       "      <td>...</td>\n",
       "      <td>NaN</td>\n",
       "      <td>NaN</td>\n",
       "      <td>2098.0</td>\n",
       "      <td>350.0</td>\n",
       "      <td>2.0</td>\n",
       "      <td>NaN</td>\n",
       "      <td>NaN</td>\n",
       "      <td>NaN</td>\n",
       "      <td>NaN</td>\n",
       "      <td>20210825</td>\n",
       "    </tr>\n",
       "    <tr>\n",
       "      <th>4</th>\n",
       "      <td>11</td>\n",
       "      <td>1110011</td>\n",
       "      <td>110000016</td>\n",
       "      <td>1</td>\n",
       "      <td>1</td>\n",
       "      <td>2019</td>\n",
       "      <td>6.0</td>\n",
       "      <td>1</td>\n",
       "      <td>1</td>\n",
       "      <td>9.0</td>\n",
       "      <td>...</td>\n",
       "      <td>NaN</td>\n",
       "      <td>NaN</td>\n",
       "      <td>2098.0</td>\n",
       "      <td>350.0</td>\n",
       "      <td>2.0</td>\n",
       "      <td>NaN</td>\n",
       "      <td>NaN</td>\n",
       "      <td>NaN</td>\n",
       "      <td>NaN</td>\n",
       "      <td>20210825</td>\n",
       "    </tr>\n",
       "  </tbody>\n",
       "</table>\n",
       "<p>5 rows × 1087 columns</p>\n",
       "</div>"
      ],
      "text/plain": [
       "   V0001    V0024    UPA_PNS  V0006_PNS  V0015  V0020  V0022  V0026  V0031  \\\n",
       "0     11  1110011  110000016          1      1   2019    6.0      1      1   \n",
       "1     11  1110011  110000016          1      1   2019    6.0      1      1   \n",
       "2     11  1110011  110000016          1      1   2019    6.0      1      1   \n",
       "3     11  1110011  110000016          1      1   2019    6.0      1      1   \n",
       "4     11  1110011  110000016          1      1   2019    6.0      1      1   \n",
       "\n",
       "   V0025A  ...  VDE002  VDE014  VDF002  VDF003  VDF004  VDL001  VDM001  \\\n",
       "0     1.0  ...     1.0     6.0  2098.0   350.0     2.0     NaN     NaN   \n",
       "1     0.0  ...     NaN     NaN  2098.0   350.0     2.0     NaN     NaN   \n",
       "2     0.0  ...     1.0     4.0  2098.0   350.0     2.0     NaN     NaN   \n",
       "3     9.0  ...     NaN     NaN  2098.0   350.0     2.0     NaN     NaN   \n",
       "4     9.0  ...     NaN     NaN  2098.0   350.0     2.0     NaN     NaN   \n",
       "\n",
       "   VDP001  VDR001    VDDATA  \n",
       "0     NaN     NaN  20210825  \n",
       "1     NaN     NaN  20210825  \n",
       "2     NaN     NaN  20210825  \n",
       "3     NaN     NaN  20210825  \n",
       "4     NaN     NaN  20210825  \n",
       "\n",
       "[5 rows x 1087 columns]"
      ]
     },
     "execution_count": 18,
     "metadata": {},
     "output_type": "execute_result"
    }
   ],
   "source": [
    "# 1. Visualização das primeiras linhas do DataFrame\n",
    "print(\"Primeiras linhas do DataFrame:\")\n",
    "df_original.head()"
   ]
  },
  {
   "cell_type": "code",
   "execution_count": 19,
   "metadata": {},
   "outputs": [
    {
     "name": "stdout",
     "output_type": "stream",
     "text": [
      "Temos 293726 linhas e 1087 colunas.\n"
     ]
    }
   ],
   "source": [
    "# 2. Número de linhas e colunas\n",
    "print(\"Temos\", df_original.shape[0], \"linhas e\", df_original.shape[1], \"colunas.\")"
   ]
  },
  {
   "cell_type": "code",
   "execution_count": 20,
   "metadata": {},
   "outputs": [
    {
     "name": "stdout",
     "output_type": "stream",
     "text": [
      "\n",
      "Informações gerais sobre o DataFrame:\n",
      "<class 'pandas.core.frame.DataFrame'>\n",
      "RangeIndex: 293726 entries, 0 to 293725\n",
      "Columns: 1087 entries, V0001 to VDDATA\n",
      "dtypes: float64(1078), int64(9)\n",
      "memory usage: 2.4 GB\n",
      "None\n"
     ]
    }
   ],
   "source": [
    "# 3. Informações gerais sobre o DataFrame\n",
    "print(\"\\nInformações gerais sobre o DataFrame:\")\n",
    "print(df_original.info())"
   ]
  },
  {
   "cell_type": "code",
   "execution_count": 21,
   "metadata": {},
   "outputs": [
    {
     "name": "stdout",
     "output_type": "stream",
     "text": [
      "\n",
      "Contagem de valores únicos em cada coluna:\n",
      "V0001          27\n",
      "V0024         574\n",
      "UPA_PNS      8031\n",
      "V0006_PNS      18\n",
      "V0015          12\n",
      "             ... \n",
      "VDL001         31\n",
      "VDM001          4\n",
      "VDP001          3\n",
      "VDR001          9\n",
      "VDDATA          1\n",
      "Length: 1087, dtype: int64\n"
     ]
    }
   ],
   "source": [
    "# 4. Contagem de valores únicos em cada coluna\n",
    "print(\"\\nContagem de valores únicos em cada coluna:\")\n",
    "print(df_original.nunique())"
   ]
  },
  {
   "cell_type": "code",
   "execution_count": 22,
   "metadata": {},
   "outputs": [
    {
     "name": "stdout",
     "output_type": "stream",
     "text": [
      "\n",
      "Contagem de valores nulos em cada coluna:\n"
     ]
    },
    {
     "data": {
      "text/plain": [
       "V0022       14344\n",
       "V0025A      14344\n",
       "V0025B     273014\n",
       "A001        14344\n",
       "A002010     14344\n",
       "            ...  \n",
       "VDF004      14516\n",
       "VDL001     287094\n",
       "VDM001     249264\n",
       "VDP001     285577\n",
       "VDR001     276350\n",
       "Length: 1078, dtype: int64"
      ]
     },
     "execution_count": 22,
     "metadata": {},
     "output_type": "execute_result"
    }
   ],
   "source": [
    "#5. Contagem de valores nulos em cada coluna com mais de 1 valor nulo\n",
    "# Contagem de valores nulos em cada coluna\n",
    "print(\"\\nContagem de valores nulos em cada coluna:\")\n",
    "null_counts = df_original.isnull().sum()\n",
    "\n",
    "# Filtrando as colunas que possuem mais de 1 valor nulo\n",
    "null_counts_filtered = null_counts[null_counts > 1]\n",
    "\n",
    "null_counts_filtered"
   ]
  },
  {
   "cell_type": "markdown",
   "metadata": {},
   "source": [
    "# Analise dos Dados Filtrados no Primeiro Momento"
   ]
  },
  {
   "cell_type": "code",
   "execution_count": 23,
   "metadata": {},
   "outputs": [],
   "source": [
    "# Importando Dados\n",
    "# Obtendo o diretório atual do script\n",
    "diretorio_atual = os.path.dirname(os.path.abspath('__file__'))\n",
    "\n",
    "# Construindo o caminho para o arquivo CSV usando o caminho relativo\n",
    "caminho = os.path.join(diretorio_atual,'..','..','..' ,'Data', 'Bases Modificadas', 'pns_filtrada.csv')\n",
    "\n",
    "# Carregando o arquivo CSV\n",
    "df_filtrado = pd.read_csv(caminho)"
   ]
  },
  {
   "cell_type": "code",
   "execution_count": 24,
   "metadata": {},
   "outputs": [
    {
     "name": "stdout",
     "output_type": "stream",
     "text": [
      "Primeiras linhas do DataFrame:\n"
     ]
    },
    {
     "data": {
      "text/html": [
       "<div>\n",
       "<style scoped>\n",
       "    .dataframe tbody tr th:only-of-type {\n",
       "        vertical-align: middle;\n",
       "    }\n",
       "\n",
       "    .dataframe tbody tr th {\n",
       "        vertical-align: top;\n",
       "    }\n",
       "\n",
       "    .dataframe thead th {\n",
       "        text-align: right;\n",
       "    }\n",
       "</style>\n",
       "<table border=\"1\" class=\"dataframe\">\n",
       "  <thead>\n",
       "    <tr style=\"text-align: right;\">\n",
       "      <th></th>\n",
       "      <th>C006</th>\n",
       "      <th>C00702</th>\n",
       "      <th>C00703</th>\n",
       "      <th>C008</th>\n",
       "      <th>M01401</th>\n",
       "      <th>M01501</th>\n",
       "      <th>E01602</th>\n",
       "      <th>E01601</th>\n",
       "      <th>E01603</th>\n",
       "      <th>E01604</th>\n",
       "      <th>...</th>\n",
       "      <th>P01601</th>\n",
       "      <th>P018</th>\n",
       "      <th>P019</th>\n",
       "      <th>P02002</th>\n",
       "      <th>P02102</th>\n",
       "      <th>P023</th>\n",
       "      <th>P02401</th>\n",
       "      <th>P02501</th>\n",
       "      <th>P02602</th>\n",
       "      <th>P02601</th>\n",
       "    </tr>\n",
       "  </thead>\n",
       "  <tbody>\n",
       "    <tr>\n",
       "      <th>0</th>\n",
       "      <td>2.0</td>\n",
       "      <td>11.0</td>\n",
       "      <td>1963.0</td>\n",
       "      <td>55.0</td>\n",
       "      <td>3.0</td>\n",
       "      <td>0.0</td>\n",
       "      <td>100.0</td>\n",
       "      <td>1.0</td>\n",
       "      <td>NaN</td>\n",
       "      <td>NaN</td>\n",
       "      <td>...</td>\n",
       "      <td>0.0</td>\n",
       "      <td>3.0</td>\n",
       "      <td>NaN</td>\n",
       "      <td>1.0</td>\n",
       "      <td>2.0</td>\n",
       "      <td>7.0</td>\n",
       "      <td>2.0</td>\n",
       "      <td>0.0</td>\n",
       "      <td>0.0</td>\n",
       "      <td>3.0</td>\n",
       "    </tr>\n",
       "    <tr>\n",
       "      <th>1</th>\n",
       "      <td>2.0</td>\n",
       "      <td>11.0</td>\n",
       "      <td>1973.0</td>\n",
       "      <td>45.0</td>\n",
       "      <td>1.0</td>\n",
       "      <td>1.0</td>\n",
       "      <td>1000.0</td>\n",
       "      <td>1.0</td>\n",
       "      <td>NaN</td>\n",
       "      <td>NaN</td>\n",
       "      <td>...</td>\n",
       "      <td>7.0</td>\n",
       "      <td>7.0</td>\n",
       "      <td>2.0</td>\n",
       "      <td>0.0</td>\n",
       "      <td>NaN</td>\n",
       "      <td>0.0</td>\n",
       "      <td>NaN</td>\n",
       "      <td>0.0</td>\n",
       "      <td>0.0</td>\n",
       "      <td>4.0</td>\n",
       "    </tr>\n",
       "    <tr>\n",
       "      <th>2</th>\n",
       "      <td>2.0</td>\n",
       "      <td>8.0</td>\n",
       "      <td>1960.0</td>\n",
       "      <td>58.0</td>\n",
       "      <td>1.0</td>\n",
       "      <td>0.0</td>\n",
       "      <td>240.0</td>\n",
       "      <td>1.0</td>\n",
       "      <td>NaN</td>\n",
       "      <td>NaN</td>\n",
       "      <td>...</td>\n",
       "      <td>3.0</td>\n",
       "      <td>3.0</td>\n",
       "      <td>NaN</td>\n",
       "      <td>3.0</td>\n",
       "      <td>2.0</td>\n",
       "      <td>0.0</td>\n",
       "      <td>NaN</td>\n",
       "      <td>0.0</td>\n",
       "      <td>0.0</td>\n",
       "      <td>3.0</td>\n",
       "    </tr>\n",
       "    <tr>\n",
       "      <th>3</th>\n",
       "      <td>2.0</td>\n",
       "      <td>99.0</td>\n",
       "      <td>9999.0</td>\n",
       "      <td>41.0</td>\n",
       "      <td>3.0</td>\n",
       "      <td>0.0</td>\n",
       "      <td>998.0</td>\n",
       "      <td>1.0</td>\n",
       "      <td>NaN</td>\n",
       "      <td>NaN</td>\n",
       "      <td>...</td>\n",
       "      <td>7.0</td>\n",
       "      <td>7.0</td>\n",
       "      <td>2.0</td>\n",
       "      <td>1.0</td>\n",
       "      <td>2.0</td>\n",
       "      <td>7.0</td>\n",
       "      <td>1.0</td>\n",
       "      <td>1.0</td>\n",
       "      <td>0.0</td>\n",
       "      <td>3.0</td>\n",
       "    </tr>\n",
       "    <tr>\n",
       "      <th>4</th>\n",
       "      <td>2.0</td>\n",
       "      <td>12.0</td>\n",
       "      <td>1966.0</td>\n",
       "      <td>52.0</td>\n",
       "      <td>2.0</td>\n",
       "      <td>1.0</td>\n",
       "      <td>250.0</td>\n",
       "      <td>1.0</td>\n",
       "      <td>NaN</td>\n",
       "      <td>NaN</td>\n",
       "      <td>...</td>\n",
       "      <td>3.0</td>\n",
       "      <td>3.0</td>\n",
       "      <td>NaN</td>\n",
       "      <td>0.0</td>\n",
       "      <td>NaN</td>\n",
       "      <td>0.0</td>\n",
       "      <td>NaN</td>\n",
       "      <td>0.0</td>\n",
       "      <td>0.0</td>\n",
       "      <td>3.0</td>\n",
       "    </tr>\n",
       "  </tbody>\n",
       "</table>\n",
       "<p>5 rows × 138 columns</p>\n",
       "</div>"
      ],
      "text/plain": [
       "   C006  C00702  C00703  C008  M01401  M01501  E01602  E01601  E01603  E01604  \\\n",
       "0   2.0    11.0  1963.0  55.0     3.0     0.0   100.0     1.0     NaN     NaN   \n",
       "1   2.0    11.0  1973.0  45.0     1.0     1.0  1000.0     1.0     NaN     NaN   \n",
       "2   2.0     8.0  1960.0  58.0     1.0     0.0   240.0     1.0     NaN     NaN   \n",
       "3   2.0    99.0  9999.0  41.0     3.0     0.0   998.0     1.0     NaN     NaN   \n",
       "4   2.0    12.0  1966.0  52.0     2.0     1.0   250.0     1.0     NaN     NaN   \n",
       "\n",
       "   ...  P01601  P018  P019  P02002  P02102  P023  P02401  P02501  P02602  \\\n",
       "0  ...     0.0   3.0   NaN     1.0     2.0   7.0     2.0     0.0     0.0   \n",
       "1  ...     7.0   7.0   2.0     0.0     NaN   0.0     NaN     0.0     0.0   \n",
       "2  ...     3.0   3.0   NaN     3.0     2.0   0.0     NaN     0.0     0.0   \n",
       "3  ...     7.0   7.0   2.0     1.0     2.0   7.0     1.0     1.0     0.0   \n",
       "4  ...     3.0   3.0   NaN     0.0     NaN   0.0     NaN     0.0     0.0   \n",
       "\n",
       "   P02601  \n",
       "0     3.0  \n",
       "1     4.0  \n",
       "2     3.0  \n",
       "3     3.0  \n",
       "4     3.0  \n",
       "\n",
       "[5 rows x 138 columns]"
      ]
     },
     "execution_count": 24,
     "metadata": {},
     "output_type": "execute_result"
    }
   ],
   "source": [
    "# 1. Visualização das primeiras linhas do DataFrame\n",
    "print(\"Primeiras linhas do DataFrame:\")\n",
    "df_filtrado.head()"
   ]
  },
  {
   "cell_type": "code",
   "execution_count": 25,
   "metadata": {},
   "outputs": [
    {
     "name": "stdout",
     "output_type": "stream",
     "text": [
      "Temos 40359 linhas e 138 colunas.\n"
     ]
    }
   ],
   "source": [
    "# 2. Número de linhas e colunas\n",
    "print(\"Temos\", df_filtrado.shape[0], \"linhas e\", df_filtrado.shape[1], \"colunas.\")"
   ]
  },
  {
   "cell_type": "code",
   "execution_count": 26,
   "metadata": {},
   "outputs": [
    {
     "name": "stdout",
     "output_type": "stream",
     "text": [
      "\n",
      "Informações gerais sobre o DataFrame:\n",
      "<class 'pandas.core.frame.DataFrame'>\n",
      "RangeIndex: 40359 entries, 0 to 40358\n",
      "Columns: 138 entries, C006 to P02601\n",
      "dtypes: float64(138)\n",
      "memory usage: 42.5 MB\n",
      "None\n"
     ]
    }
   ],
   "source": [
    "# 3. Informações gerais sobre o DataFrame\n",
    "print(\"\\nInformações gerais sobre o DataFrame:\")\n",
    "print(df_filtrado.info())"
   ]
  },
  {
   "cell_type": "code",
   "execution_count": 30,
   "metadata": {},
   "outputs": [
    {
     "name": "stdout",
     "output_type": "stream",
     "text": [
      "\n",
      "Contagem de valores únicos em cada coluna:\n",
      "C006       2\n",
      "C00702    13\n",
      "C00703    28\n",
      "C008      26\n",
      "M01401     4\n",
      "          ..\n",
      "P023       8\n",
      "P02401     3\n",
      "P02501     8\n",
      "P02602     8\n",
      "P02601     5\n",
      "Length: 138, dtype: int64\n"
     ]
    }
   ],
   "source": [
    "# 4. Contagem de valores únicos em cada coluna\n",
    "print(\"\\nContagem de valores únicos em cada coluna:\")\n",
    "print(df_filtrado.nunique())"
   ]
  },
  {
   "cell_type": "code",
   "execution_count": 29,
   "metadata": {},
   "outputs": [
    {
     "name": "stdout",
     "output_type": "stream",
     "text": [
      "\n",
      "Contagem de valores nulos em cada coluna:\n"
     ]
    },
    {
     "data": {
      "text/plain": [
       "E01602    14459\n",
       "E01601    14459\n",
       "E01603    40174\n",
       "E01604    40174\n",
       "E01605    40355\n",
       "          ...  \n",
       "P01001    18197\n",
       "P02101    28638\n",
       "P019      21402\n",
       "P02102    24408\n",
       "P02401    12653\n",
       "Length: 70, dtype: int64"
      ]
     },
     "execution_count": 29,
     "metadata": {},
     "output_type": "execute_result"
    }
   ],
   "source": [
    "#5. Contagem de valores nulos em cada coluna com mais de 1 valor nulo\n",
    "# Contagem de valores nulos em cada coluna\n",
    "print(\"\\nContagem de valores nulos em cada coluna:\")\n",
    "null_counts = df_filtrado.isnull().sum()\n",
    "\n",
    "# Filtrando as colunas que possuem mais de 1 valor nulo\n",
    "null_counts_filtered = null_counts[null_counts > 1]\n",
    "\n",
    "null_counts_filtered"
   ]
  },
  {
   "cell_type": "code",
   "execution_count": null,
   "metadata": {},
   "outputs": [],
   "source": []
  }
 ],
 "metadata": {
  "kernelspec": {
   "display_name": "Python 3",
   "language": "python",
   "name": "python3"
  },
  "language_info": {
   "codemirror_mode": {
    "name": "ipython",
    "version": 3
   },
   "file_extension": ".py",
   "mimetype": "text/x-python",
   "name": "python",
   "nbconvert_exporter": "python",
   "pygments_lexer": "ipython3",
   "version": "3.11.9"
  }
 },
 "nbformat": 4,
 "nbformat_minor": 2
}
