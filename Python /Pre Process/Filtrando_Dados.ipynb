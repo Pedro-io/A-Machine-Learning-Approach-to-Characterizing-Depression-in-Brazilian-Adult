{
 "cells": [
  {
   "cell_type": "code",
   "execution_count": 1,
   "metadata": {
    "executionInfo": {
     "elapsed": 1209,
     "status": "ok",
     "timestamp": 1708345418366,
     "user": {
      "displayName": "Pedro Rodrigues",
      "userId": "13325411992293832064"
     },
     "user_tz": 180
    },
    "id": "rc9sKquMGPZL"
   },
   "outputs": [],
   "source": [
    "# Importando Bibliotecas\n",
    "import pandas as pd\n",
    "import os"
   ]
  },
  {
   "cell_type": "markdown",
   "metadata": {},
   "source": [
    "> Importando base de dados"
   ]
  },
  {
   "cell_type": "code",
   "execution_count": 2,
   "metadata": {},
   "outputs": [],
   "source": [
    "# Obtendo o diretório atual do script\n",
    "diretorio_atual = os.path.dirname(os.path.abspath('__file__'))\n",
    "\n",
    "# Construindo o caminho para o arquivo CSV usando o caminho relativo\n",
    "caminho = os.path.join(diretorio_atual,'..','..','..','..' ,'Data', 'pns2019', 'pns2019.csv')\n",
    "\n",
    "# Carregando o arquivo CSV\n",
    "df_original = pd.read_csv(caminho)\n"
   ]
  },
  {
   "cell_type": "code",
   "execution_count": 3,
   "metadata": {},
   "outputs": [
    {
     "name": "stdout",
     "output_type": "stream",
     "text": [
      "<class 'pandas.core.frame.DataFrame'>\n",
      "RangeIndex: 293726 entries, 0 to 293725\n",
      "Columns: 1087 entries, V0001 to VDDATA\n",
      "dtypes: float64(1078), int64(9)\n",
      "memory usage: 2.4 GB\n"
     ]
    }
   ],
   "source": [
    "df_original.info()"
   ]
  },
  {
   "cell_type": "markdown",
   "metadata": {},
   "source": [
    "## Filtrando Colunas que Seram Utilizadas "
   ]
  },
  {
   "cell_type": "code",
   "execution_count": 4,
   "metadata": {},
   "outputs": [],
   "source": [
    "df = df_original[[\n",
    "  \n",
    "  'C006', # Sexo\n",
    "  'C00702', # Mês de nascimento\n",
    "  'C00703',# Ano de nascimento   \n",
    "  'C008', # Idade do morador na data de referência\n",
    "\n",
    "     \n",
    "  'M01401', # Com quantos familiares ou parentes pode contar em momentos bons ou ruins                            \n",
    "  'M01501', # Com quantos amigos próximos ___ pode contar em momentos bons ou ruins (Sem considerar os familiares ou parentes\n",
    "  'E01602', #Qual era o rendimento bruto mensal ou retirada que ___ fazia normalmente nesse trabalho?(valor em dinheiro)\n",
    "  'E01601', #...recebia/fazia normalmente nesse trabalho rendimento/retirada em dinheiro?\n",
    "  'E01603', #...recebia/fazia normalmente nesse trabalho rendimento/retirada em produtos ou mercadorias?\n",
    "  'E01604', #Qual era o rendimento bruto mensal ou retirada que ___ fazia normalmente nesse trabalho?(valor estimado em produtos ou mercadorias)\n",
    "  'E01605', #...recebia/fazia normalmente nesse trabalho rendimento/retirada somente em benefícios ?\n",
    "  'E01801', #...recebia/fazia normalmente nesse(s) outro(s) trabalho(s) rendimento/retirada em dinheiro?\n",
    "  'E01802', #Qual era o rendimento bruto mensal ou retirada que ___ fazia normalmente nesse(s) outro(s) trabalho(s)?(valor em dinheiro)\n",
    "  'E01803', #...recebia/fazia normalmente nesse(s) outro(s) trabalho(s) rendimento/retirada em produtos ou mercadorias?\n",
    "  'E01804', #Qual era o rendimento bruto mensal ou retirada que ___ fazia normalmente nesse(s) outro(s) trabalho(s)?(valor estimado em produtos ou mercadorias)\n",
    "  'E01805', #...recebia/fazia normalmente nesse(s) outro(s) trabalho(s) rendimento/retirada somente em benefícios ?\n",
    "  'F001011', #Em (mês da pesquisa) ___ recebia normalmente rendimento de aposentadoria ou pensão de instituto de previdência federal (INSS), estadual, municipal, ou do governo federal, estadual, municipal?\n",
    "  'F001021', #Valor habitualmente recebido\n",
    "  'F007011', #Em (mês da pesquisa), ___ recebia normalmente rendimento de pensão alimentícia, doação ou mesada em dinheiro de pessoa que não morava no domicílio?\n",
    "  'F007021', #Valor habitualmente recebido\n",
    "  'F008011', #Em (mês da pesquisa), ___ recebia normalmente rendimento de aluguel ou arrendamento?\n",
    "  'F008021', #Valor habitualmente recebido\n",
    "  'VDF001',  #Em (mês da pesquisa), _______ recebia normalmente algum juro de caderneta de poupança e de outras aplicações financeiras, dividendos, programas sociais, seguro-desemprego, seguro defeso ou outros rendimentos? \n",
    "  'VDF00102', #Valor recebido em reais (VDF001)\n",
    "  'E01201', #Qual era a ocupação (cargo ou função) que ___ tinha nesse trabalho\n",
    "  'E01401', #Nesse trabalho, ___ era\n",
    "  'E014011', #Trabalhador não remunerado em ajuda a membro do domicílio ou parente \n",
    "  'E002', #Na semana de ___a___ (semana de referência), ___ trabalhou ou estagiou, durante pelo menos uma hora, em alguma atividade remunerada em produtos, mercadorias, moradia, alimentação, treinamento ou aprendizado etc\n",
    "  'E001', #Na semana de___ a___ (semana de referência), ___ trabalhou ou estagiou, durante pelo menos uma hora, em alguma atividade remunerada em dinheiro\n",
    "  'E019', #Quantas horas ___ trabalhava normalmente, por semana, nesses outros trabalhos? \n",
    "  'E017', # Quantas horas ___ trabalhava normalmente, por semana, nesse trabalho?\n",
    "  'M005011', #Quantas horas trabalha(va) por dia, habitualmente, no período de 8 horas da noite e 5 horas da manhã\n",
    "  'M00601', #Com que frequência, habitualmente, o(a) Sr(a) trabalha(va) no horário entre 8 horas da noite e 5 horas da manhã em algum dos seus trabalhos\n",
    "  'D00901', # Qual foi o curso mais elevado que ___frequentou \n",
    "  'Q092',#***TEM DEPRESSÃO**Algum médico ou profissional de saúde mental (como psiquiatra ou psicólogo) já lhe deu o diagnóstico de depressão?\n",
    "  'Q09201',#Algum médico já lhe receitou algum medicamento para depressão?\n",
    "  'Q09202',#Nas duas últimas semanas o(a) senhor(a) usou algum medicamento para depressão?\n",
    "  'Q09301',#Que idade o(a) Sr(a) tinha no primeiro diagnóstico de depressão? \n",
    "  'Q094',#O(A) Sr(a) vai ao médico/serviço de saúde regularmente por causa da depressão ou só quando tem algum problema?\n",
    "  'Q09502',#Qual o principal motivo do(a) Sr(a) não visitar o médico/serviço de saúde regularmente por causa da depressão? \n",
    "  'Q09605',#Por causa da depressão Faz psicoterapia \n",
    "  'Q09606',#Por causa da depressão Toma medicamentos\n",
    "  'Q09607',#Por causa da depressão Faz uso de acupuntura, plantas medicinais e fitoterapia, homeopatia, meditação, yoga, tai chi chuan, liang gong ou alguma outra prática integrativa e complementar \n",
    "  'Q098',#Algum dos medicamentos para depressão foi obtido em serviço público de saúde? \n",
    "  'Q100',#O(A) Sr(a) pagou algum valor pelos medicamentos? \n",
    "  'Q10101',#Quando foi a última vez que o(a) Sr(a) recebeu atendimento médico por causa da depressão? \n",
    "  'Q10202',#Na última vez que recebeu assistência médica para depressão, onde o(a) Sr(a) foi atendido? \n",
    "  'Q104',#O(A) Sr(a) pagou algum valor por esse atendimento?\n",
    "  'Q105',#Esse atendimento foi feito pelo SUS? \n",
    "  'Q106',#Em algum dos atendimentos para depressão, houve encaminhamento para algum acompanhamento com profissional de saúde mental, como psiquiatra ou psicólogo? \n",
    "  'Q10701',#O(A) Sr(a) conseguiu ir às consultas com profissional especialista de saúde mental? \n",
    "  'Q109',#Em geral, em que grau a depressão limita as suas atividades habituais (tais como trabalhar, realizar afazeres domésticos, etc.)? \n",
    "  'A001',#Tipo do domicílio\n",
    "  'A002010',#Qual é o material que predomina na construção das paredes externas deste domicílio?\n",
    "  'A003010',#Material predominante na cobertura (telhado) do domicílio\n",
    "  'A004010',#Qual é o material que predomina no piso deste domicílio\n",
    "  'A01001',# Quantos cômodos têm este domicílio\n",
    "  'A011',#Quantos cômodos estão servindo permanentemente de dormitório para os moradores deste domicílio\n",
    "  'A005012',#Este domicílio está ligado à rede geral de distribuição de água? \n",
    "  'A00601',# A água utilizada neste domicílio chega\n",
    "  'A009010',# A água utilizada para beber neste domicílio é\n",
    "  'A01401',#Quantos banheiros (com chuveiro ou banheira e vaso sanitário ou privada) de uso exclusivo dos moradores existem neste domicílio, inclusive os localizados no terreno ou propriedade\n",
    "  'A01402',#Quantos banheiros (com chuveiro ou banheira e vaso sanitário ou privada) de uso comum a mais de um domicilio, existem neste terreno ou propriedade\n",
    "  'A01403',#Utiliza sanitário ou buraco para dejeções, inclusive os localizados no terreno ou na propriedade (cercado por paredes de qualquer material\n",
    "  'A01501',#Para onde vai o esgoto do banheiro? Ou Para onde vai o esgoto do sanitário ou do buraco para dejeções?\n",
    "  'A016010',#Qual o (principal) destino dado ao lixo\n",
    "  'J007', #Algum médico já deu o diagnóstico de alguma doença crônica, física ou mental, ou doença de longa duração (de mais de 6 meses de duração) \n",
    "  'Q11006', # Algum médico ou profissional de saúde (como psiquiatra ou psicólogo) já lhe deu o diagnóstico de outra doença mental, como transtorno de ansiedade, síndrome do pânico, esquizofrenia, transtorno bipolar, psicose ou TOC (Transtorno Obsessivo Compulsivo) etc? \n",
    "  'Q11007', # Diagnóstico de Esquizofrenia \n",
    "  'Q11008', # Diagnóstico de Transtorno bipolar \n",
    "  'Q11009', # Diagnóstico de TOC (Transtorno obsessivo compulsivo) \n",
    "  'Q11010', # Outro diagnóstico\n",
    "  'N00101', # Considerando saúde como um estado de bem-estar físico e mental, e não somente a ausência de doenças, como você avalia o seu estado de saúde? \n",
    "  \n",
    " \n",
    "  \n",
    "  'P034', # Nos últimos três meses, o(a) Sr(a) praticou algum tipo de exercício físico ou esporte? \n",
    "  'P035', # Quantos dias por semana o(a) Sr(a) costuma  (costumava)praticar exercício físico ou esporte?\n",
    "  'P03701', #Em geral, no dia que o(a) Sr(a) pratica exercício ou esporte, quanto tempo em horas dura essa atividade? Horas \n",
    "  'P03702', # Em geral, no dia que o(a) Sr(a) pratica (praticava) exercício ou esporte, quanto tempo em minutos dura essa atividade?Minutos \n",
    "  'P036', # Qual o exercício físico ou esporte que o(a) Sr(a) pratica (praticava) com mais frequência? (Anotar apenas o primeiro citado) \n",
    "  'P027', # Com que frequência o(a) Sr(a) costuma consumir alguma bebida alcoólica?\n",
    "  'P02801', # Quantos dias por semana o(a) Sr(a) costuma consumir alguma bebida alcoólica? \n",
    "  'P029', # Em geral, no dia que o(a) Sr(a) bebe, quantas doses de bebida alcoólica o(a) Sr(a) consome? \n",
    "  'J00402', #  Qual foi o principal motivo de saúde que impediu de realizar suas atividades habituais nas duas últimas semanas \n",
    "  'J01101', # Quando consultou um médico pela última vez\n",
    "  'J014', # Nas duas últimas semanas, procurou algum lugar, serviço ou profissional de saúde para atendimento relacionado à própria saúde\n",
    "  'J01502', # Qual foi o motivo principal pelo qual procurou atendimento relacionado à própria saúde nas duas últimas semanas\n",
    "  'H024', # Orientações sobre alimentação saudável, boa higiene e sono adequado (dormir suficientemente)\n",
    "  'N010', # Nas duas últimas semanas, com que frequência o(a) Sr(a) teve problemas no sono, como dificuldade para adormecer, acordar frequentemente à noite ou dormir mais do que de costume?\n",
    "  \n",
    " \n",
    "  'P00102', # O(A) Sr(a) sabe seu peso? \n",
    "  'P00404',#Altura - Final (em cm)(3 inteiros)\n",
    "  'P00103',#Peso - Informado (em kg)(3 inteiros e 1 casa decimal)\n",
    "  'P00104',#Peso - Final (em kg)(3 inteiros e 1 casa decimal)\n",
    "  'W00101', # Peso - 1ª pesagem (em kg)\n",
    "  'W00102', # Peso - 2ª pesagem (em kg)\n",
    "  'W00201', # Altura - 1ª medição (em cm)\n",
    "  'W00202', # Altura - 2ª medição (em cm)\n",
    "  'P00402', # O(A) Sr(a) sabe sua altura? (mesmo que seja valor aproximado) \n",
    "  'P00403', # Altura - Informada (em cm)\n",
    "  \n",
    "  'P00601', # Ontem o(a) Sr(a) comeu arroz, macarrão, polenta, cuscuz ou milho verde. \n",
    "  'P00602', # Batata comum, mandioca/aipim/macaxeira, cará ou inhame.\n",
    "  'P00603', # Feijão, ervilha, lentilha ou grão de bico.\n",
    "  'P00604', # Carne de boi, porco, frango, peixe\n",
    "  'P00605', # Ovo (frito, cozido ou mexido ). \n",
    "  'P00607', # Alface, couve, brócolis, agrião ou espinfre.\n",
    "  'P00608', # Abóbora, cenoura, batata doce ou quiabo/caruru. \n",
    "  'P00609', # Tomate, pepino, abobrinha, berinjela, chuchu ou beterraba. \n",
    "  'P00610', # Mamão, manga, melão amarelo ou pequi. \n",
    "  'P00611', # Laranja, banana, maçã, abacaxi. \n",
    "  'P00612', # Leite\n",
    "  'P00613', # Amendoim, castanha de caju ou castanha do Brasil/Pará \n",
    "  'P00614', # ONTEM o(a) Sr(a) tomou ou comeu:Refrigerante\n",
    "  'P00615', # Suco de fruta em caixinha ou lata ou refresco em pó. \n",
    "  'P00616', # Bebida achocolatada ou iogurte com sabor. \n",
    "  'P00617', # Salgadinho de pacote ou biscoito/bolacha salgado.\n",
    "  'P00618', # Biscoito/bolacha doce ou recheado ou bolo de pacote. \n",
    "  'P00619', # Sorvete, chocolate, gelatina, flan ou outra sobremesa industrializada.\n",
    "  'P00620', # Salsicha, linguiça, mortadela ou presunto. \n",
    "  'P00621', # Pão de forma, de cachorro-quente ou de hambúrguer.\n",
    "  'P00622', # Margarina, maionese, ketchup ou outros molhos industrializados. \n",
    "  'P00623', # Macarrão instantâneo, sopa de pacote, lasanha congelada ou outro prato congelado comprado pronto industrilizado.\n",
    "  'P006', # Em quantos dias da semana o(a) Sr(a) costuma comer feijão? \n",
    "  'P00901', # Em quantos dias da semana, o(a) Sr(a) costuma comer pelo menos um tipo de verdura ou legume (sem contar batata, mandioca, cará ou inhame) como alface, tomate, couve, cenoura, chuchu, berinjela, abobrinha? \n",
    "  'P01001', # Em geral, o(a) Sr(a) costuma comer esse tipo de verdura ou legume: \n",
    "  'P01101', # Em quantos dias da semana o(a) Sr(a) costuma comer carne vermelha (boi, porco, cabrito, bode, ovelha etc.)? \n",
    "  'P013', # Em quantos dias da semana o(a) Sr(a) costuma comer frango/galinha? \n",
    "  'P015', #Em quantos dias da semana o(a) Sr(a) costuma comer peixe? \n",
    "  'P02001', # Em quantos dias da semana o(a) Sr(a) costuma tomar suco de caixinha/lata ou refresco em pó ? \n",
    "  'P02101', # Que tipo de suco de caixinha/lata ou refresco em pó o(a) Sr(a) costuma tomar? (Ler as opções de resposta) \n",
    "  'P01601', # Em quantos dias da semana o(a) Sr(a) costuma tomar suco de fruta natural (incluída a polpa de fruta congelada)? \n",
    "  'P018', # Em quantos dias da semana o(a) Sr(a) costuma comer frutas? \n",
    "  'P019', # Em geral, quantas vezes por dia o(a) Sr(a) come frutas? \n",
    "  'P02002', #  Em quantos dias da semana o(a) Sr(a) costuma tomar refrigerante? \n",
    "  'P02102', # Que tipo de refrigerante o(a) Sr(a) costuma tomar? \n",
    "  'P023', # Em quantos dias da semana o(a) Sr(a) costuma tomar leite? (de origem animal: vaca, cabra, búfala etc.) \n",
    "  'P02401', # Que tipo de leite o(a) Sr(a) costuma tomar? \n",
    "  'P02501', # Em quantos dias da semana o(a) Sr(a) costuma comer alimentos doces como biscoito/bolacha recheado, chocolate, gelatina, balas e outros?\n",
    "  'P02602', # Em quantos dias da semana o(a) Sr(a) costuma substituir a refeição do almoço por lanches rápidos como sanduíches, salgados, pizza, cachorro quente, etc? \n",
    "  'P02601', # Considerando a comida preparada na hora e os alimentos industrializados, o(a) Sr(a) acha que o seu consumo de sal é:\n",
    "  ]].copy() "
   ]
  },
  {
   "cell_type": "markdown",
   "metadata": {},
   "source": [
    "# Filtrando Linhas \n"
   ]
  },
  {
   "cell_type": "code",
   "execution_count": 5,
   "metadata": {},
   "outputs": [],
   "source": [
    "# Removendo linhas onde não responderam se possuem depressão ou não \n",
    "df_filtrado = df[df['Q092'].notna()]\n"
   ]
  },
  {
   "cell_type": "code",
   "execution_count": 6,
   "metadata": {},
   "outputs": [
    {
     "name": "stderr",
     "output_type": "stream",
     "text": [
      "C:\\Users\\maype\\AppData\\Local\\Temp\\ipykernel_10008\\19102719.py:2: UserWarning: Boolean Series key will be reindexed to match DataFrame index.\n",
      "  df_filtrado = df_filtrado[(df['C008'] >= 20) & (df_filtrado['C008'] <= 59)]\n"
     ]
    }
   ],
   "source": [
    "# Filtrando para idades entre 40 e 65 anos\n",
    "df_filtrado = df_filtrado[(df['C008'] >= 20) & (df_filtrado['C008'] <= 59)]\n"
   ]
  },
  {
   "cell_type": "code",
   "execution_count": 7,
   "metadata": {},
   "outputs": [
    {
     "name": "stdout",
     "output_type": "stream",
     "text": [
      "<class 'pandas.core.frame.DataFrame'>\n",
      "Index: 63782 entries, 0 to 293720\n",
      "Columns: 137 entries, C006 to P02601\n",
      "dtypes: float64(137)\n",
      "memory usage: 67.2 MB\n"
     ]
    },
    {
     "data": {
      "text/plain": [
       "(63782, 137)"
      ]
     },
     "execution_count": 7,
     "metadata": {},
     "output_type": "execute_result"
    }
   ],
   "source": [
    "df_filtrado.info()\n",
    "df_filtrado.shape"
   ]
  },
  {
   "cell_type": "code",
   "execution_count": 8,
   "metadata": {},
   "outputs": [],
   "source": [
    "# Obtendo o diretório atual do script\n",
    "diretorio_atual = os.path.dirname(os.path.abspath('__file__'))\n",
    "\n",
    "# Construindo o caminho para o arquivo CSV usando o caminho relativo\n",
    "caminho = os.path.join(diretorio_atual,'..','..','..','..' ,'Data', 'Bases Modificadas', 'pns_filtrada.csv')\n",
    "\n",
    "# Exportando o arquivo CSV\n",
    "df_filtrado.to_csv(caminho, index= False)"
   ]
  },
  {
   "cell_type": "code",
   "execution_count": 9,
   "metadata": {},
   "outputs": [],
   "source": [
    "# Removendo linhas onde não responderam se possuem depressão ou não \n",
    "df_original = df_original[df_original['Q092'].notna()]\n",
    "df_original.to_csv('pns_dan.csv')"
   ]
  },
  {
   "cell_type": "code",
   "execution_count": 10,
   "metadata": {},
   "outputs": [
    {
     "data": {
      "text/plain": [
       "Q092\n",
       "True    90846\n",
       "Name: count, dtype: int64"
      ]
     },
     "execution_count": 10,
     "metadata": {},
     "output_type": "execute_result"
    }
   ],
   "source": [
    "df_original['Q092'].notna().value_counts()"
   ]
  },
  {
   "cell_type": "code",
   "execution_count": 11,
   "metadata": {},
   "outputs": [
    {
     "data": {
      "text/plain": [
       "Q092\n",
       "True    63782\n",
       "Name: count, dtype: int64"
      ]
     },
     "execution_count": 11,
     "metadata": {},
     "output_type": "execute_result"
    }
   ],
   "source": [
    "df_filtrado['Q092'].notna().value_counts()"
   ]
  },
  {
   "cell_type": "code",
   "execution_count": 12,
   "metadata": {},
   "outputs": [
    {
     "data": {
      "text/plain": [
       "(90846, 1088)"
      ]
     },
     "execution_count": 12,
     "metadata": {},
     "output_type": "execute_result"
    }
   ],
   "source": [
    "df_dan = pd.read_csv('pns_dan.csv')\n",
    "df_dan.shape"
   ]
  }
 ],
 "metadata": {
  "colab": {
   "authorship_tag": "ABX9TyOLhBlzG6AxL4Jm8fn4ILD+",
   "provenance": []
  },
  "kernelspec": {
   "display_name": "Python 3 (ipykernel)",
   "language": "python",
   "name": "python3"
  },
  "language_info": {
   "codemirror_mode": {
    "name": "ipython",
    "version": 3
   },
   "file_extension": ".py",
   "mimetype": "text/x-python",
   "name": "python",
   "nbconvert_exporter": "python",
   "pygments_lexer": "ipython3",
   "version": "3.11.9"
  }
 },
 "nbformat": 4,
 "nbformat_minor": 1
}
