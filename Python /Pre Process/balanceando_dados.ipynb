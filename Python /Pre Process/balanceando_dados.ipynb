{
 "cells": [
  {
   "cell_type": "code",
   "execution_count": 13,
   "metadata": {},
   "outputs": [],
   "source": [
    "import pandas as pd "
   ]
  },
  {
   "cell_type": "code",
   "execution_count": 14,
   "metadata": {},
   "outputs": [],
   "source": [
    "df = pd.read_csv(r'C:\\Users\\maype\\OneDrive - sga.pucminas.br\\Área de Trabalho\\Faculdade\\projects\\A Machine Learning Approach to Characterizing Depression in Brazilian Adult\\Data\\Bases Modificadas\\base_final.csv', index_col = 0)"
   ]
  },
  {
   "cell_type": "code",
   "execution_count": 15,
   "metadata": {},
   "outputs": [
    {
     "data": {
      "text/plain": [
       "Diagnostico_Depressao\n",
       "2.0    44040\n",
       "1.0     4269\n",
       "Name: count, dtype: int64"
      ]
     },
     "execution_count": 15,
     "metadata": {},
     "output_type": "execute_result"
    }
   ],
   "source": [
    "df['Diagnostico_Depressao'].value_counts()"
   ]
  },
  {
   "cell_type": "code",
   "execution_count": 16,
   "metadata": {},
   "outputs": [
    {
     "data": {
      "text/plain": [
       "Apoio_Familiar                                    float64\n",
       "Apoio_de_Amigos                                   float64\n",
       "Tipo_de_Trabalho                                  float64\n",
       "Curso_Mais_Elevado                                float64\n",
       "Diagnostico_Depressao                             float64\n",
       "Estado_de_Saude                                   float64\n",
       "Pratica_Exercicio                                 float64\n",
       "Exercicio_Mais_Frequente                          float64\n",
       "Procura_Atendimento_Saude                         float64\n",
       "Problemas_Sono                                    float64\n",
       "idade                                             float64\n",
       "trabalhou                                         float64\n",
       "doencas_cronicas                                    int64\n",
       "moradia_vulneravel                                  int64\n",
       "tempo_total_exercicio                             float64\n",
       "frequencia_exercicio                              float64\n",
       "freq_bebida_alcoolica                             float64\n",
       "Consumo de Graos e Tuberculos                     float64\n",
       "Consumo de Leguminosas                            float64\n",
       "Consumo de Carnes                                 float64\n",
       "Consumo de Ovos                                   float64\n",
       "Consumo de Verduras e Legumes                     float64\n",
       "Consumo de Frutas                                 float64\n",
       "Consumo de Laticinios                             float64\n",
       "Consumo de Oleaginosas                            float64\n",
       "Consumo de Refrigerantes                          float64\n",
       "Consumo de Sucos Industrializados                 float64\n",
       "Consumo de Sucos Naturais                         float64\n",
       "Consumo de Bebidas Lacteas                        float64\n",
       "Consumo de Salgadinhos e Biscoitos Salgados       float64\n",
       "Consumo de Doces e Sobremesas Industrializadas    float64\n",
       "Consumo de Embutidos e Alimentos Processados      float64\n",
       "Consumo de Paes Industrializados                  float64\n",
       "Consumo de Molhos Industrializados                float64\n",
       "Substituicao de Refeicoes por Lanches Rapidos     float64\n",
       "Consumo de Sal                                    float64\n",
       "sexo_masculino                                       bool\n",
       "sexo_feminino                                        bool\n",
       "renda_discretizada                                  int64\n",
       "imc_discretizado                                    int64\n",
       "dtype: object"
      ]
     },
     "execution_count": 16,
     "metadata": {},
     "output_type": "execute_result"
    }
   ],
   "source": [
    "df.dtypes"
   ]
  },
  {
   "cell_type": "code",
   "execution_count": 17,
   "metadata": {},
   "outputs": [
    {
     "data": {
      "text/plain": [
       "Apoio_Familiar                                    category\n",
       "Apoio_de_Amigos                                   category\n",
       "Tipo_de_Trabalho                                  category\n",
       "Curso_Mais_Elevado                                category\n",
       "Diagnostico_Depressao                             category\n",
       "Estado_de_Saude                                   category\n",
       "Pratica_Exercicio                                 category\n",
       "Exercicio_Mais_Frequente                          category\n",
       "Procura_Atendimento_Saude                         category\n",
       "Problemas_Sono                                    category\n",
       "idade                                             category\n",
       "trabalhou                                         category\n",
       "doencas_cronicas                                  category\n",
       "moradia_vulneravel                                category\n",
       "tempo_total_exercicio                             category\n",
       "frequencia_exercicio                              category\n",
       "freq_bebida_alcoolica                             category\n",
       "Consumo de Graos e Tuberculos                     category\n",
       "Consumo de Leguminosas                            category\n",
       "Consumo de Carnes                                 category\n",
       "Consumo de Ovos                                   category\n",
       "Consumo de Verduras e Legumes                     category\n",
       "Consumo de Frutas                                 category\n",
       "Consumo de Laticinios                             category\n",
       "Consumo de Oleaginosas                            category\n",
       "Consumo de Refrigerantes                          category\n",
       "Consumo de Sucos Industrializados                 category\n",
       "Consumo de Sucos Naturais                         category\n",
       "Consumo de Bebidas Lacteas                        category\n",
       "Consumo de Salgadinhos e Biscoitos Salgados       category\n",
       "Consumo de Doces e Sobremesas Industrializadas    category\n",
       "Consumo de Embutidos e Alimentos Processados      category\n",
       "Consumo de Paes Industrializados                  category\n",
       "Consumo de Molhos Industrializados                category\n",
       "Substituicao de Refeicoes por Lanches Rapidos     category\n",
       "Consumo de Sal                                    category\n",
       "sexo_masculino                                    category\n",
       "sexo_feminino                                     category\n",
       "renda_discretizada                                category\n",
       "imc_discretizado                                  category\n",
       "dtype: object"
      ]
     },
     "execution_count": 17,
     "metadata": {},
     "output_type": "execute_result"
    }
   ],
   "source": [
    "df =df.astype('category')\n",
    "df.dtypes"
   ]
  },
  {
   "cell_type": "code",
   "execution_count": 18,
   "metadata": {},
   "outputs": [],
   "source": [
    "df = df.drop('idade', axis= 1)"
   ]
  },
  {
   "cell_type": "code",
   "execution_count": 19,
   "metadata": {},
   "outputs": [
    {
     "data": {
      "text/plain": [
       "Index(['Apoio_Familiar', 'Apoio_de_Amigos', 'Tipo_de_Trabalho',\n",
       "       'Curso_Mais_Elevado', 'Diagnostico_Depressao', 'Estado_de_Saude',\n",
       "       'Pratica_Exercicio', 'Exercicio_Mais_Frequente',\n",
       "       'Procura_Atendimento_Saude', 'Problemas_Sono', 'trabalhou',\n",
       "       'doencas_cronicas', 'moradia_vulneravel', 'tempo_total_exercicio',\n",
       "       'frequencia_exercicio', 'freq_bebida_alcoolica',\n",
       "       'Consumo de Graos e Tuberculos', 'Consumo de Leguminosas',\n",
       "       'Consumo de Carnes', 'Consumo de Ovos', 'Consumo de Verduras e Legumes',\n",
       "       'Consumo de Frutas', 'Consumo de Laticinios', 'Consumo de Oleaginosas',\n",
       "       'Consumo de Refrigerantes', 'Consumo de Sucos Industrializados',\n",
       "       'Consumo de Sucos Naturais', 'Consumo de Bebidas Lacteas',\n",
       "       'Consumo de Salgadinhos e Biscoitos Salgados',\n",
       "       'Consumo de Doces e Sobremesas Industrializadas',\n",
       "       'Consumo de Embutidos e Alimentos Processados',\n",
       "       'Consumo de Paes Industrializados',\n",
       "       'Consumo de Molhos Industrializados',\n",
       "       'Substituicao de Refeicoes por Lanches Rapidos', 'Consumo de Sal',\n",
       "       'sexo_masculino', 'sexo_feminino', 'renda_discretizada',\n",
       "       'imc_discretizado'],\n",
       "      dtype='object')"
      ]
     },
     "execution_count": 19,
     "metadata": {},
     "output_type": "execute_result"
    }
   ],
   "source": [
    "df.columns"
   ]
  },
  {
   "cell_type": "code",
   "execution_count": 20,
   "metadata": {},
   "outputs": [
    {
     "name": "stdout",
     "output_type": "stream",
     "text": [
      "<class 'pandas.core.frame.DataFrame'>\n",
      "Index: 48309 entries, 0 to 48308\n",
      "Data columns (total 39 columns):\n",
      " #   Column                                          Non-Null Count  Dtype   \n",
      "---  ------                                          --------------  -----   \n",
      " 0   Apoio_Familiar                                  48309 non-null  category\n",
      " 1   Apoio_de_Amigos                                 48309 non-null  category\n",
      " 2   Tipo_de_Trabalho                                48309 non-null  category\n",
      " 3   Curso_Mais_Elevado                              48309 non-null  category\n",
      " 4   Diagnostico_Depressao                           48309 non-null  category\n",
      " 5   Estado_de_Saude                                 48309 non-null  category\n",
      " 6   Pratica_Exercicio                               48309 non-null  category\n",
      " 7   Exercicio_Mais_Frequente                        48309 non-null  category\n",
      " 8   Procura_Atendimento_Saude                       48309 non-null  category\n",
      " 9   Problemas_Sono                                  48309 non-null  category\n",
      " 10  trabalhou                                       48309 non-null  category\n",
      " 11  doencas_cronicas                                48309 non-null  category\n",
      " 12  moradia_vulneravel                              48309 non-null  category\n",
      " 13  tempo_total_exercicio                           48309 non-null  category\n",
      " 14  frequencia_exercicio                            48309 non-null  category\n",
      " 15  freq_bebida_alcoolica                           48309 non-null  category\n",
      " 16  Consumo de Graos e Tuberculos                   48309 non-null  category\n",
      " 17  Consumo de Leguminosas                          48309 non-null  category\n",
      " 18  Consumo de Carnes                               48309 non-null  category\n",
      " 19  Consumo de Ovos                                 48309 non-null  category\n",
      " 20  Consumo de Verduras e Legumes                   48309 non-null  category\n",
      " 21  Consumo de Frutas                               48309 non-null  category\n",
      " 22  Consumo de Laticinios                           48309 non-null  category\n",
      " 23  Consumo de Oleaginosas                          48309 non-null  category\n",
      " 24  Consumo de Refrigerantes                        48309 non-null  category\n",
      " 25  Consumo de Sucos Industrializados               48309 non-null  category\n",
      " 26  Consumo de Sucos Naturais                       48309 non-null  category\n",
      " 27  Consumo de Bebidas Lacteas                      48309 non-null  category\n",
      " 28  Consumo de Salgadinhos e Biscoitos Salgados     48309 non-null  category\n",
      " 29  Consumo de Doces e Sobremesas Industrializadas  48309 non-null  category\n",
      " 30  Consumo de Embutidos e Alimentos Processados    48309 non-null  category\n",
      " 31  Consumo de Paes Industrializados                48309 non-null  category\n",
      " 32  Consumo de Molhos Industrializados              48309 non-null  category\n",
      " 33  Substituicao de Refeicoes por Lanches Rapidos   48309 non-null  category\n",
      " 34  Consumo de Sal                                  48309 non-null  category\n",
      " 35  sexo_masculino                                  48309 non-null  category\n",
      " 36  sexo_feminino                                   48309 non-null  category\n",
      " 37  renda_discretizada                              48309 non-null  category\n",
      " 38  imc_discretizado                                48309 non-null  category\n",
      "dtypes: category(39)\n",
      "memory usage: 2.2 MB\n"
     ]
    }
   ],
   "source": [
    "df.info()"
   ]
  },
  {
   "cell_type": "code",
   "execution_count": 21,
   "metadata": {},
   "outputs": [
    {
     "data": {
      "text/plain": [
       "Diagnostico_Depressao\n",
       "2.0    44040\n",
       "1.0     4269\n",
       "Name: count, dtype: int64"
      ]
     },
     "execution_count": 21,
     "metadata": {},
     "output_type": "execute_result"
    }
   ],
   "source": [
    "df['Diagnostico_Depressao'].value_counts()"
   ]
  },
  {
   "cell_type": "code",
   "execution_count": 22,
   "metadata": {},
   "outputs": [
    {
     "name": "stderr",
     "output_type": "stream",
     "text": [
      "C:\\Users\\maype\\AppData\\Local\\Temp\\ipykernel_3720\\4293311392.py:1: FutureWarning: The behavior of Series.replace (and DataFrame.replace) with CategoricalDtype is deprecated. In a future version, replace will only be used for cases that preserve the categories. To change the categories, use ser.cat.rename_categories instead.\n",
      "  df['Diagnostico_Depressao'] = df['Diagnostico_Depressao'].replace(2, 0)\n"
     ]
    }
   ],
   "source": [
    "df['Diagnostico_Depressao'] = df['Diagnostico_Depressao'].replace(2, 0)"
   ]
  },
  {
   "cell_type": "code",
   "execution_count": 23,
   "metadata": {},
   "outputs": [
    {
     "data": {
      "text/plain": [
       "Apoio_Familiar                                    0\n",
       "Apoio_de_Amigos                                   0\n",
       "Tipo_de_Trabalho                                  0\n",
       "Curso_Mais_Elevado                                0\n",
       "Diagnostico_Depressao                             0\n",
       "Estado_de_Saude                                   0\n",
       "Pratica_Exercicio                                 0\n",
       "Exercicio_Mais_Frequente                          0\n",
       "Procura_Atendimento_Saude                         0\n",
       "Problemas_Sono                                    0\n",
       "trabalhou                                         0\n",
       "doencas_cronicas                                  0\n",
       "moradia_vulneravel                                0\n",
       "tempo_total_exercicio                             0\n",
       "frequencia_exercicio                              0\n",
       "freq_bebida_alcoolica                             0\n",
       "Consumo de Graos e Tuberculos                     0\n",
       "Consumo de Leguminosas                            0\n",
       "Consumo de Carnes                                 0\n",
       "Consumo de Ovos                                   0\n",
       "Consumo de Verduras e Legumes                     0\n",
       "Consumo de Frutas                                 0\n",
       "Consumo de Laticinios                             0\n",
       "Consumo de Oleaginosas                            0\n",
       "Consumo de Refrigerantes                          0\n",
       "Consumo de Sucos Industrializados                 0\n",
       "Consumo de Sucos Naturais                         0\n",
       "Consumo de Bebidas Lacteas                        0\n",
       "Consumo de Salgadinhos e Biscoitos Salgados       0\n",
       "Consumo de Doces e Sobremesas Industrializadas    0\n",
       "Consumo de Embutidos e Alimentos Processados      0\n",
       "Consumo de Paes Industrializados                  0\n",
       "Consumo de Molhos Industrializados                0\n",
       "Substituicao de Refeicoes por Lanches Rapidos     0\n",
       "Consumo de Sal                                    0\n",
       "sexo_masculino                                    0\n",
       "sexo_feminino                                     0\n",
       "renda_discretizada                                0\n",
       "imc_discretizado                                  0\n",
       "dtype: int64"
      ]
     },
     "execution_count": 23,
     "metadata": {},
     "output_type": "execute_result"
    }
   ],
   "source": [
    "df.isna().sum()"
   ]
  },
  {
   "cell_type": "markdown",
   "metadata": {},
   "source": [
    "### Balanceado os dados"
   ]
  },
  {
   "cell_type": "code",
   "execution_count": 24,
   "metadata": {},
   "outputs": [],
   "source": [
    "# 1. Importar as bibliotecas necessárias\n",
    "from imblearn.under_sampling import RandomUnderSampler\n",
    "from sklearn.model_selection import train_test_split\n",
    "from imblearn.under_sampling import RandomUnderSampler\n",
    "import matplotlib.pyplot as plt\n",
    "\n",
    "# 2. Separar as features (X) e o target (y)\n",
    "X = df.drop('Diagnostico_Depressao', axis=1)\n",
    "y = df['Diagnostico_Depressao']\n",
    "\n",
    "# 3. Dividir os dados em treino e teste\n",
    "X_train, X_test, y_train, y_test = train_test_split(X, y, test_size=0.2, random_state=42)\n",
    "\n",
    "# 4. Criar um objeto RandomUnderSampler\n",
    "rus = RandomUnderSampler(random_state=42)\n",
    "\n",
    "# 5. Aplicar o undersampling ao conjunto de treino\n",
    "X_train_resampled, y_train_resampled = rus.fit_resample(X_train, y_train)\n"
   ]
  },
  {
   "cell_type": "code",
   "execution_count": 26,
   "metadata": {},
   "outputs": [],
   "source": [
    "# Recuperar os índices dos dados removidos\n",
    "removed_indices = rus.sample_indices_\n",
    "removed_X = X.iloc[removed_indices]\n",
    "removed_y = y.iloc[removed_indices]\n",
    "\n",
    "# Adicionar os dados removidos ao X_test e y_test\n",
    "X_test = pd.concat([X_test, removed_X])\n",
    "y_test = pd.concat([y_test, removed_y])\n",
    "\n",
    "\n",
    "# 5. Aplicar o undersampling ao conjunto de teste\n",
    "X_test_resampled, y_test_resampled = rus.fit_resample(X_test, y_test)"
   ]
  },
  {
   "cell_type": "code",
   "execution_count": 27,
   "metadata": {},
   "outputs": [
    {
     "name": "stdout",
     "output_type": "stream",
     "text": [
      "Tamanho de y_test: 23194, Tamanho de y_pred_dtc: 23194\n"
     ]
    }
   ],
   "source": [
    "# Verificar tamanhos\n",
    "print(f\"Tamanho de y_test: {len(y_test)}, Tamanho de y_pred_dtc: {len(X_test)}\")"
   ]
  },
  {
   "cell_type": "code",
   "execution_count": 28,
   "metadata": {},
   "outputs": [
    {
     "data": {
      "image/png": "[encoded data removed]",
      "text/plain": [
       "<Figure size 1000x500 with 2 Axes>"
      ]
     },
     "metadata": {},
     "output_type": "display_data"
    }
   ],
   "source": [
    "# Visualizar a distribuição das classes\n",
    "plt.figure(figsize=(10, 5))\n",
    "\n",
    "# Histograma da base desbalanceada\n",
    "plt.subplot(1, 2, 1)\n",
    "plt.hist(y_train, bins=2, edgecolor='black')\n",
    "plt.title('Base Desbalanceada')\n",
    "plt.xlabel('Diagnostico_Depressao')\n",
    "plt.ylabel('Contagem')\n",
    "\n",
    "# Histograma da base balanceada\n",
    "plt.subplot(1, 2, 2)\n",
    "plt.hist(y_train_resampled, bins=2, edgecolor='black')\n",
    "plt.title('Base Balanceada')\n",
    "plt.xlabel('Diagnostico_Depressao')\n",
    "plt.ylabel('Contagem')\n",
    "\n",
    "plt.tight_layout()\n",
    "plt.show()\n"
   ]
  },
  {
   "cell_type": "code",
   "execution_count": 30,
   "metadata": {},
   "outputs": [],
   "source": [
    "# Salvar os dados de treino\n",
    "X_train_resampled.to_csv(r'C:\\Users\\maype\\OneDrive - sga.pucminas.br\\Área de Trabalho\\Faculdade\\projects\\A Machine Learning Approach to Characterizing Depression in Brazilian Adult\\Python\\Notebooks\\Modelling\\X_train.csv', index=False)\n",
    "y_train_resampled.to_csv(r'C:\\Users\\maype\\OneDrive - sga.pucminas.br\\Área de Trabalho\\Faculdade\\projects\\A Machine Learning Approach to Characterizing Depression in Brazilian Adult\\Python\\Notebooks\\Modelling\\y_train.csv', index=False)\n",
    "\n",
    "# Salvar os dados de teste\n",
    "X_test_resampled.to_csv(r'C:\\Users\\maype\\OneDrive - sga.pucminas.br\\Área de Trabalho\\Faculdade\\projects\\A Machine Learning Approach to Characterizing Depression in Brazilian Adult\\Python\\Notebooks\\Modelling\\X_test.csv', index=False)\n",
    "y_test_resampled.to_csv(r'C:\\Users\\maype\\OneDrive - sga.pucminas.br\\Área de Trabalho\\Faculdade\\projects\\A Machine Learning Approach to Characterizing Depression in Brazilian Adult\\Python\\Notebooks\\Modelling\\y_test.csv', index=False)"
   ]
  }
 ],
 "metadata": {
  "kernelspec": {
   "display_name": "Python 3",
   "language": "python",
   "name": "python3"
  },
  "language_info": {
   "codemirror_mode": {
    "name": "ipython",
    "version": 3
   },
   "file_extension": ".py",
   "mimetype": "text/x-python",
   "name": "python",
   "nbconvert_exporter": "python",
   "pygments_lexer": "ipython3",
   "version": "3.11.9"
  }
 },
 "nbformat": 4,
 "nbformat_minor": 2
}
