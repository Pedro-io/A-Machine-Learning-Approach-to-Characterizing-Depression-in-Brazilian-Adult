{
 "cells": [
  {
   "cell_type": "markdown",
   "metadata": {},
   "source": [
    "# **Notebook para Tratamento de Valores Faltantes**\n",
    "\n",
    "**Introdução:**\n",
    "Neste notebook, iremos remover, tratar e substituir valores nulos de nossa bade de dados. Os atributos utlizados foram selecionados criteriozamente utilizando como base o método CAPTO para selecionar os atributos mais relevantes para a classificação de pessoas que possam possuir depressão. Os dados utilizados serão provenientes da Pesquisa Nacional de Saúde (PNS) de 2019.\n",
    "\n",
    "**Objetivos:**\n",
    "O principal objetivo deste notebook é remover, tratar e substituir por completo dados nulos de nossa base, deixando a base preenchida por completo. \n"
   ]
  },
  {
   "cell_type": "markdown",
   "metadata": {},
   "source": [
    "## Bibliotecas Utilizadas\n",
    "As principais bibliotecas utilizadas nesta etapa são:\n",
    "- Sidetable: Auxilia na identificação rápida de valores faltantes e frequências de valores categóricos.\n",
    "- Pandas Profiling: Faz uma análise exploratória automática dos dados, gerando insights sobre problemas nos dados.\n",
    "- NumPy: Biblioteca fundamental para computação científica em Python.\n",
    "- Pandas: Biblioteca popular para análise de dados.\n",
    "- IPython Widgets: Permite interatividade."
   ]
  },
  {
   "cell_type": "code",
   "execution_count": 5,
   "metadata": {},
   "outputs": [],
   "source": [
    "import numpy as np\n",
    "import pandas as pd \n",
    "import os\n",
    "import seaborn as sns\n",
    "import matplotlib.pyplot as plt "
   ]
  },
  {
   "cell_type": "markdown",
   "metadata": {},
   "source": [
    "# Tratando Valores Nulos "
   ]
  },
  {
   "cell_type": "markdown",
   "metadata": {},
   "source": [
    "> Importando base de dados"
   ]
  },
  {
   "cell_type": "code",
   "execution_count": 6,
   "metadata": {},
   "outputs": [],
   "source": [
    "# Obtendo o diretório atual do script\n",
    "diretorio_atual = os.path.dirname(os.path.abspath('__file__'))\n",
    "\n",
    "# Construindo o caminho para o arquivo CSV usando o caminho relativo\n",
    "#caminho = os.path.join(diretorio_atual,'..','..','..','..','Data', 'Bases Modificadas', 'base_consolidada.csv')\n",
    "# Carregando o arquivo CSV\n",
    "df = pd.read_csv(r\"C:\\Users\\maype\\OneDrive - sga.pucminas.br\\Área de Trabalho\\Faculdade\\projects\\A Machine Learning Approach to Characterizing Depression in Brazilian Adult\\Data\\Bases Modificadas\\base_consolidada.csv\")"
   ]
  },
  {
   "cell_type": "code",
   "execution_count": 7,
   "metadata": {},
   "outputs": [
    {
     "data": {
      "text/html": [
       "<div>\n",
       "<style scoped>\n",
       "    .dataframe tbody tr th:only-of-type {\n",
       "        vertical-align: middle;\n",
       "    }\n",
       "\n",
       "    .dataframe tbody tr th {\n",
       "        vertical-align: top;\n",
       "    }\n",
       "\n",
       "    .dataframe thead th {\n",
       "        text-align: right;\n",
       "    }\n",
       "</style>\n",
       "<table border=\"1\" class=\"dataframe\">\n",
       "  <thead>\n",
       "    <tr style=\"text-align: right;\">\n",
       "      <th></th>\n",
       "      <th>Sexo</th>\n",
       "      <th>Apoio_Familiar</th>\n",
       "      <th>Apoio_de_Amigos</th>\n",
       "      <th>Tipo_de_Trabalho</th>\n",
       "      <th>Trabalhador_Nao_Remunerado</th>\n",
       "      <th>Horas_Trabalhadas_Noite</th>\n",
       "      <th>Freq_Trabalho_Noite</th>\n",
       "      <th>Curso_Mais_Elevado</th>\n",
       "      <th>Diagnostico_Depressao</th>\n",
       "      <th>Estado_de_Saude</th>\n",
       "      <th>...</th>\n",
       "      <th>Consumo de Sucos Industrializados</th>\n",
       "      <th>Consumo de Sucos Naturais</th>\n",
       "      <th>Consumo de Bebidas Lacteas</th>\n",
       "      <th>Consumo de Salgadinhos e Biscoitos Salgados</th>\n",
       "      <th>Consumo de Doces e Sobremesas Industrializadas</th>\n",
       "      <th>Consumo de Embutidos e Alimentos Processados</th>\n",
       "      <th>Consumo de Paes Industrializados</th>\n",
       "      <th>Consumo de Molhos Industrializados</th>\n",
       "      <th>Substituicao de Refeicoes por Lanches Rapidos</th>\n",
       "      <th>Consumo de Sal</th>\n",
       "    </tr>\n",
       "  </thead>\n",
       "  <tbody>\n",
       "    <tr>\n",
       "      <th>0</th>\n",
       "      <td>2.0</td>\n",
       "      <td>3.0</td>\n",
       "      <td>0.0</td>\n",
       "      <td>6.0</td>\n",
       "      <td>NaN</td>\n",
       "      <td>NaN</td>\n",
       "      <td>NaN</td>\n",
       "      <td>5.0</td>\n",
       "      <td>1.0</td>\n",
       "      <td>3.0</td>\n",
       "      <td>...</td>\n",
       "      <td>10.0</td>\n",
       "      <td>0.0</td>\n",
       "      <td>2.0</td>\n",
       "      <td>2.0</td>\n",
       "      <td>4.0</td>\n",
       "      <td>4.0</td>\n",
       "      <td>2.0</td>\n",
       "      <td>1.0</td>\n",
       "      <td>0.0</td>\n",
       "      <td>3.0</td>\n",
       "    </tr>\n",
       "    <tr>\n",
       "      <th>1</th>\n",
       "      <td>2.0</td>\n",
       "      <td>1.0</td>\n",
       "      <td>1.0</td>\n",
       "      <td>3.0</td>\n",
       "      <td>NaN</td>\n",
       "      <td>NaN</td>\n",
       "      <td>NaN</td>\n",
       "      <td>10.0</td>\n",
       "      <td>2.0</td>\n",
       "      <td>1.0</td>\n",
       "      <td>...</td>\n",
       "      <td>2.0</td>\n",
       "      <td>7.0</td>\n",
       "      <td>1.0</td>\n",
       "      <td>2.0</td>\n",
       "      <td>4.0</td>\n",
       "      <td>3.0</td>\n",
       "      <td>2.0</td>\n",
       "      <td>2.0</td>\n",
       "      <td>0.0</td>\n",
       "      <td>4.0</td>\n",
       "    </tr>\n",
       "    <tr>\n",
       "      <th>2</th>\n",
       "      <td>2.0</td>\n",
       "      <td>1.0</td>\n",
       "      <td>0.0</td>\n",
       "      <td>3.0</td>\n",
       "      <td>NaN</td>\n",
       "      <td>NaN</td>\n",
       "      <td>NaN</td>\n",
       "      <td>4.0</td>\n",
       "      <td>2.0</td>\n",
       "      <td>3.0</td>\n",
       "      <td>...</td>\n",
       "      <td>2.0</td>\n",
       "      <td>3.0</td>\n",
       "      <td>2.0</td>\n",
       "      <td>2.0</td>\n",
       "      <td>4.0</td>\n",
       "      <td>4.0</td>\n",
       "      <td>2.0</td>\n",
       "      <td>2.0</td>\n",
       "      <td>0.0</td>\n",
       "      <td>3.0</td>\n",
       "    </tr>\n",
       "    <tr>\n",
       "      <th>3</th>\n",
       "      <td>2.0</td>\n",
       "      <td>3.0</td>\n",
       "      <td>0.0</td>\n",
       "      <td>NaN</td>\n",
       "      <td>NaN</td>\n",
       "      <td>NaN</td>\n",
       "      <td>NaN</td>\n",
       "      <td>NaN</td>\n",
       "      <td>2.0</td>\n",
       "      <td>2.0</td>\n",
       "      <td>...</td>\n",
       "      <td>6.0</td>\n",
       "      <td>4.0</td>\n",
       "      <td>2.0</td>\n",
       "      <td>2.0</td>\n",
       "      <td>5.0</td>\n",
       "      <td>4.0</td>\n",
       "      <td>2.0</td>\n",
       "      <td>2.0</td>\n",
       "      <td>0.0</td>\n",
       "      <td>3.0</td>\n",
       "    </tr>\n",
       "    <tr>\n",
       "      <th>4</th>\n",
       "      <td>2.0</td>\n",
       "      <td>3.0</td>\n",
       "      <td>0.0</td>\n",
       "      <td>3.0</td>\n",
       "      <td>NaN</td>\n",
       "      <td>NaN</td>\n",
       "      <td>NaN</td>\n",
       "      <td>10.0</td>\n",
       "      <td>2.0</td>\n",
       "      <td>2.0</td>\n",
       "      <td>...</td>\n",
       "      <td>2.0</td>\n",
       "      <td>7.0</td>\n",
       "      <td>2.0</td>\n",
       "      <td>2.0</td>\n",
       "      <td>5.0</td>\n",
       "      <td>4.0</td>\n",
       "      <td>2.0</td>\n",
       "      <td>2.0</td>\n",
       "      <td>0.0</td>\n",
       "      <td>3.0</td>\n",
       "    </tr>\n",
       "  </tbody>\n",
       "</table>\n",
       "<p>5 rows × 51 columns</p>\n",
       "</div>"
      ],
      "text/plain": [
       "   Sexo  Apoio_Familiar  Apoio_de_Amigos  Tipo_de_Trabalho  \\\n",
       "0   2.0             3.0              0.0               6.0   \n",
       "1   2.0             1.0              1.0               3.0   \n",
       "2   2.0             1.0              0.0               3.0   \n",
       "3   2.0             3.0              0.0               NaN   \n",
       "4   2.0             3.0              0.0               3.0   \n",
       "\n",
       "   Trabalhador_Nao_Remunerado  Horas_Trabalhadas_Noite  Freq_Trabalho_Noite  \\\n",
       "0                         NaN                      NaN                  NaN   \n",
       "1                         NaN                      NaN                  NaN   \n",
       "2                         NaN                      NaN                  NaN   \n",
       "3                         NaN                      NaN                  NaN   \n",
       "4                         NaN                      NaN                  NaN   \n",
       "\n",
       "   Curso_Mais_Elevado  Diagnostico_Depressao  Estado_de_Saude  ...  \\\n",
       "0                 5.0                    1.0              3.0  ...   \n",
       "1                10.0                    2.0              1.0  ...   \n",
       "2                 4.0                    2.0              3.0  ...   \n",
       "3                 NaN                    2.0              2.0  ...   \n",
       "4                10.0                    2.0              2.0  ...   \n",
       "\n",
       "   Consumo de Sucos Industrializados  Consumo de Sucos Naturais  \\\n",
       "0                               10.0                        0.0   \n",
       "1                                2.0                        7.0   \n",
       "2                                2.0                        3.0   \n",
       "3                                6.0                        4.0   \n",
       "4                                2.0                        7.0   \n",
       "\n",
       "   Consumo de Bebidas Lacteas  Consumo de Salgadinhos e Biscoitos Salgados  \\\n",
       "0                         2.0                                          2.0   \n",
       "1                         1.0                                          2.0   \n",
       "2                         2.0                                          2.0   \n",
       "3                         2.0                                          2.0   \n",
       "4                         2.0                                          2.0   \n",
       "\n",
       "   Consumo de Doces e Sobremesas Industrializadas  \\\n",
       "0                                             4.0   \n",
       "1                                             4.0   \n",
       "2                                             4.0   \n",
       "3                                             5.0   \n",
       "4                                             5.0   \n",
       "\n",
       "   Consumo de Embutidos e Alimentos Processados  \\\n",
       "0                                           4.0   \n",
       "1                                           3.0   \n",
       "2                                           4.0   \n",
       "3                                           4.0   \n",
       "4                                           4.0   \n",
       "\n",
       "   Consumo de Paes Industrializados  Consumo de Molhos Industrializados  \\\n",
       "0                               2.0                                 1.0   \n",
       "1                               2.0                                 2.0   \n",
       "2                               2.0                                 2.0   \n",
       "3                               2.0                                 2.0   \n",
       "4                               2.0                                 2.0   \n",
       "\n",
       "   Substituicao de Refeicoes por Lanches Rapidos  Consumo de Sal  \n",
       "0                                            0.0             3.0  \n",
       "1                                            0.0             4.0  \n",
       "2                                            0.0             3.0  \n",
       "3                                            0.0             3.0  \n",
       "4                                            0.0             3.0  \n",
       "\n",
       "[5 rows x 51 columns]"
      ]
     },
     "execution_count": 7,
     "metadata": {},
     "output_type": "execute_result"
    }
   ],
   "source": [
    "df.head()"
   ]
  },
  {
   "cell_type": "markdown",
   "metadata": {},
   "source": [
    "> ### Informações sobre a base "
   ]
  },
  {
   "cell_type": "code",
   "execution_count": 8,
   "metadata": {},
   "outputs": [
    {
     "name": "stdout",
     "output_type": "stream",
     "text": [
      "<class 'pandas.core.frame.DataFrame'>\n",
      "RangeIndex: 63782 entries, 0 to 63781\n",
      "Data columns (total 51 columns):\n",
      " #   Column                                          Non-Null Count  Dtype  \n",
      "---  ------                                          --------------  -----  \n",
      " 0   Sexo                                            63782 non-null  float64\n",
      " 1   Apoio_Familiar                                  63782 non-null  float64\n",
      " 2   Apoio_de_Amigos                                 63782 non-null  float64\n",
      " 3   Tipo_de_Trabalho                                45959 non-null  float64\n",
      " 4   Trabalhador_Nao_Remunerado                      569 non-null    float64\n",
      " 5   Horas_Trabalhadas_Noite                         6037 non-null   float64\n",
      " 6   Freq_Trabalho_Noite                             6037 non-null   float64\n",
      " 7   Curso_Mais_Elevado                              56532 non-null  float64\n",
      " 8   Diagnostico_Depressao                           63782 non-null  float64\n",
      " 9   Estado_de_Saude                                 63782 non-null  float64\n",
      " 10  Pratica_Exercicio                               63782 non-null  float64\n",
      " 11  Exercicio_Mais_Frequente                        26161 non-null  float64\n",
      " 12  Motivo_Impedimento_Atividades                   5695 non-null   float64\n",
      " 13  Ultima_Consulta_Medica                          63782 non-null  float64\n",
      " 14  Procura_Atendimento_Saude                       63782 non-null  float64\n",
      " 15  Motivo_Atendimento_Saude                        12212 non-null  float64\n",
      " 16  Orientacoes_Saude                               6265 non-null   float64\n",
      " 17  Problemas_Sono                                  63782 non-null  float64\n",
      " 18  peso_consolidado(KG)                            63782 non-null  float64\n",
      " 19  altura_consolidada(CM)                          63782 non-null  float64\n",
      " 20  IMC                                             63782 non-null  float64\n",
      " 21  renda_total                                     63782 non-null  float64\n",
      " 22  idade                                           63782 non-null  float64\n",
      " 23  trabalhou                                       63782 non-null  float64\n",
      " 24  horas_trabalhadas_total                         63782 non-null  float64\n",
      " 25  doencas_cronicas                                63782 non-null  int64  \n",
      " 26  saneamento_basico                               63782 non-null  int64  \n",
      " 27  moradia_vulneravel                              63782 non-null  int64  \n",
      " 28  tempo_total_exercicio                           26161 non-null  float64\n",
      " 29  frequencia_exercicio                            27127 non-null  float64\n",
      " 30  doses_bebida_alcoolica                          19837 non-null  float64\n",
      " 31  freq_bebida_alcoolica                           63782 non-null  float64\n",
      " 32  Consumo de Graos e Tuberculos                   63782 non-null  float64\n",
      " 33  Consumo de Leguminosas                          63782 non-null  float64\n",
      " 34  Consumo de Carnes                               63782 non-null  float64\n",
      " 35  Consumo de Ovos                                 63782 non-null  float64\n",
      " 36  Consumo de Verduras e Legumes                   63782 non-null  float64\n",
      " 37  Consumo de Frutas                               63782 non-null  float64\n",
      " 38  Consumo de Laticinios                           63782 non-null  float64\n",
      " 39  Consumo de Oleaginosas                          63782 non-null  float64\n",
      " 40  Consumo de Refrigerantes                        63782 non-null  float64\n",
      " 41  Consumo de Sucos Industrializados               63782 non-null  float64\n",
      " 42  Consumo de Sucos Naturais                       63782 non-null  float64\n",
      " 43  Consumo de Bebidas Lacteas                      63782 non-null  float64\n",
      " 44  Consumo de Salgadinhos e Biscoitos Salgados     63782 non-null  float64\n",
      " 45  Consumo de Doces e Sobremesas Industrializadas  63782 non-null  float64\n",
      " 46  Consumo de Embutidos e Alimentos Processados    63782 non-null  float64\n",
      " 47  Consumo de Paes Industrializados                63782 non-null  float64\n",
      " 48  Consumo de Molhos Industrializados              63782 non-null  float64\n",
      " 49  Substituicao de Refeicoes por Lanches Rapidos   63782 non-null  float64\n",
      " 50  Consumo de Sal                                  63782 non-null  float64\n",
      "dtypes: float64(48), int64(3)\n",
      "memory usage: 24.8 MB\n"
     ]
    }
   ],
   "source": [
    "df.info()"
   ]
  },
  {
   "cell_type": "markdown",
   "metadata": {},
   "source": [
    "> ### Identificando valores nulos \n"
   ]
  },
  {
   "cell_type": "code",
   "execution_count": 9,
   "metadata": {},
   "outputs": [
    {
     "data": {
      "text/plain": [
       "Sexo                                                  0\n",
       "Apoio_Familiar                                        0\n",
       "Apoio_de_Amigos                                       0\n",
       "Tipo_de_Trabalho                                  17823\n",
       "Trabalhador_Nao_Remunerado                        63213\n",
       "Horas_Trabalhadas_Noite                           57745\n",
       "Freq_Trabalho_Noite                               57745\n",
       "Curso_Mais_Elevado                                 7250\n",
       "Diagnostico_Depressao                                 0\n",
       "Estado_de_Saude                                       0\n",
       "Pratica_Exercicio                                     0\n",
       "Exercicio_Mais_Frequente                          37621\n",
       "Motivo_Impedimento_Atividades                     58087\n",
       "Ultima_Consulta_Medica                                0\n",
       "Procura_Atendimento_Saude                             0\n",
       "Motivo_Atendimento_Saude                          51570\n",
       "Orientacoes_Saude                                 57517\n",
       "Problemas_Sono                                        0\n",
       "peso_consolidado(KG)                                  0\n",
       "altura_consolidada(CM)                                0\n",
       "IMC                                                   0\n",
       "renda_total                                           0\n",
       "idade                                                 0\n",
       "trabalhou                                             0\n",
       "horas_trabalhadas_total                               0\n",
       "doencas_cronicas                                      0\n",
       "saneamento_basico                                     0\n",
       "moradia_vulneravel                                    0\n",
       "tempo_total_exercicio                             37621\n",
       "frequencia_exercicio                              36655\n",
       "doses_bebida_alcoolica                            43945\n",
       "freq_bebida_alcoolica                                 0\n",
       "Consumo de Graos e Tuberculos                         0\n",
       "Consumo de Leguminosas                                0\n",
       "Consumo de Carnes                                     0\n",
       "Consumo de Ovos                                       0\n",
       "Consumo de Verduras e Legumes                         0\n",
       "Consumo de Frutas                                     0\n",
       "Consumo de Laticinios                                 0\n",
       "Consumo de Oleaginosas                                0\n",
       "Consumo de Refrigerantes                              0\n",
       "Consumo de Sucos Industrializados                     0\n",
       "Consumo de Sucos Naturais                             0\n",
       "Consumo de Bebidas Lacteas                            0\n",
       "Consumo de Salgadinhos e Biscoitos Salgados           0\n",
       "Consumo de Doces e Sobremesas Industrializadas        0\n",
       "Consumo de Embutidos e Alimentos Processados          0\n",
       "Consumo de Paes Industrializados                      0\n",
       "Consumo de Molhos Industrializados                    0\n",
       "Substituicao de Refeicoes por Lanches Rapidos         0\n",
       "Consumo de Sal                                        0\n",
       "dtype: int64"
      ]
     },
     "execution_count": 9,
     "metadata": {},
     "output_type": "execute_result"
    }
   ],
   "source": [
    "# Valores absolutos\n",
    "df.isna().sum()"
   ]
  },
  {
   "cell_type": "code",
   "execution_count": 12,
   "metadata": {},
   "outputs": [
    {
     "data": {
      "text/html": [
       "<style type=\"text/css\">\n",
       "</style>\n",
       "<table id=\"T_776c2\">\n",
       "  <thead>\n",
       "    <tr>\n",
       "      <th class=\"blank level0\" >&nbsp;</th>\n",
       "      <th id=\"T_776c2_level0_col0\" class=\"col_heading level0 col0\" >% Valores Nulos</th>\n",
       "    </tr>\n",
       "  </thead>\n",
       "  <tbody>\n",
       "    <tr>\n",
       "      <th id=\"T_776c2_level0_row0\" class=\"row_heading level0 row0\" >Trabalhador_Nao_Remunerado</th>\n",
       "      <td id=\"T_776c2_row0_col0\" class=\"data row0 col0\" >99.11%</td>\n",
       "    </tr>\n",
       "    <tr>\n",
       "      <th id=\"T_776c2_level0_row1\" class=\"row_heading level0 row1\" >Motivo_Impedimento_Atividades</th>\n",
       "      <td id=\"T_776c2_row1_col0\" class=\"data row1 col0\" >91.07%</td>\n",
       "    </tr>\n",
       "    <tr>\n",
       "      <th id=\"T_776c2_level0_row2\" class=\"row_heading level0 row2\" >Horas_Trabalhadas_Noite</th>\n",
       "      <td id=\"T_776c2_row2_col0\" class=\"data row2 col0\" >90.53%</td>\n",
       "    </tr>\n",
       "    <tr>\n",
       "      <th id=\"T_776c2_level0_row3\" class=\"row_heading level0 row3\" >Freq_Trabalho_Noite</th>\n",
       "      <td id=\"T_776c2_row3_col0\" class=\"data row3 col0\" >90.53%</td>\n",
       "    </tr>\n",
       "    <tr>\n",
       "      <th id=\"T_776c2_level0_row4\" class=\"row_heading level0 row4\" >Orientacoes_Saude</th>\n",
       "      <td id=\"T_776c2_row4_col0\" class=\"data row4 col0\" >90.18%</td>\n",
       "    </tr>\n",
       "    <tr>\n",
       "      <th id=\"T_776c2_level0_row5\" class=\"row_heading level0 row5\" >Motivo_Atendimento_Saude</th>\n",
       "      <td id=\"T_776c2_row5_col0\" class=\"data row5 col0\" >80.85%</td>\n",
       "    </tr>\n",
       "    <tr>\n",
       "      <th id=\"T_776c2_level0_row6\" class=\"row_heading level0 row6\" >doses_bebida_alcoolica</th>\n",
       "      <td id=\"T_776c2_row6_col0\" class=\"data row6 col0\" >68.90%</td>\n",
       "    </tr>\n",
       "    <tr>\n",
       "      <th id=\"T_776c2_level0_row7\" class=\"row_heading level0 row7\" >Exercicio_Mais_Frequente</th>\n",
       "      <td id=\"T_776c2_row7_col0\" class=\"data row7 col0\" >58.98%</td>\n",
       "    </tr>\n",
       "    <tr>\n",
       "      <th id=\"T_776c2_level0_row8\" class=\"row_heading level0 row8\" >tempo_total_exercicio</th>\n",
       "      <td id=\"T_776c2_row8_col0\" class=\"data row8 col0\" >58.98%</td>\n",
       "    </tr>\n",
       "    <tr>\n",
       "      <th id=\"T_776c2_level0_row9\" class=\"row_heading level0 row9\" >frequencia_exercicio</th>\n",
       "      <td id=\"T_776c2_row9_col0\" class=\"data row9 col0\" >57.47%</td>\n",
       "    </tr>\n",
       "    <tr>\n",
       "      <th id=\"T_776c2_level0_row10\" class=\"row_heading level0 row10\" >Tipo_de_Trabalho</th>\n",
       "      <td id=\"T_776c2_row10_col0\" class=\"data row10 col0\" >27.94%</td>\n",
       "    </tr>\n",
       "    <tr>\n",
       "      <th id=\"T_776c2_level0_row11\" class=\"row_heading level0 row11\" >Curso_Mais_Elevado</th>\n",
       "      <td id=\"T_776c2_row11_col0\" class=\"data row11 col0\" >11.37%</td>\n",
       "    </tr>\n",
       "  </tbody>\n",
       "</table>\n"
      ],
      "text/plain": [
       "<pandas.io.formats.style.Styler at 0x2db3dc000d0>"
      ]
     },
     "execution_count": 12,
     "metadata": {},
     "output_type": "execute_result"
    }
   ],
   "source": [
    "# Porcentagem destes valores \n",
    "\n",
    "# Calcular a porcentagem de valores nulos apenas nas colunas que têm valores nulos\n",
    "porcentagem_nulos = (df.isna().sum() / df.shape[0])\n",
    "\n",
    "# Filtrar apenas as colunas que têm valores nulos\n",
    "porcentagem_nulos_filtrada = porcentagem_nulos[porcentagem_nulos > 0]\n",
    "\n",
    "df_nulos=(\n",
    "porcentagem_nulos_filtrada.to_frame(\"% Valores Nulos\")\n",
    ".sort_values(\"% Valores Nulos\", ascending=False)\n",
    ")\n",
    "\n",
    "\n",
    "df_nulos.style.format('{:1.2%}', subset=['% Valores Nulos'])"
   ]
  },
  {
   "cell_type": "markdown",
   "metadata": {},
   "source": [
    "## Removendo Colunas\n",
    "> Iremos remover todas as colunas com quantidade de valores nulos maior que 70%."
   ]
  },
  {
   "cell_type": "code",
   "execution_count": 13,
   "metadata": {},
   "outputs": [],
   "source": [
    "df.drop(columns=['Trabalhador_Nao_Remunerado', 'Horas_Trabalhadas_Noite', 'Freq_Trabalho_Noite', 'Motivo_Impedimento_Atividades', 'Orientacoes_Saude', 'Motivo_Atendimento_Saude', 'doses_bebida_alcoolica'], inplace=True)\n"
   ]
  },
  {
   "cell_type": "code",
   "execution_count": 14,
   "metadata": {},
   "outputs": [
    {
     "data": {
      "text/plain": [
       "Index(['Sexo', 'Apoio_Familiar', 'Apoio_de_Amigos', 'Tipo_de_Trabalho',\n",
       "       'Curso_Mais_Elevado', 'Diagnostico_Depressao', 'Estado_de_Saude',\n",
       "       'Pratica_Exercicio', 'Exercicio_Mais_Frequente',\n",
       "       'Ultima_Consulta_Medica', 'Procura_Atendimento_Saude', 'Problemas_Sono',\n",
       "       'peso_consolidado(KG)', 'altura_consolidada(CM)', 'IMC', 'renda_total',\n",
       "       'idade', 'trabalhou', 'horas_trabalhadas_total', 'doencas_cronicas',\n",
       "       'saneamento_basico', 'moradia_vulneravel', 'tempo_total_exercicio',\n",
       "       'frequencia_exercicio', 'freq_bebida_alcoolica',\n",
       "       'Consumo de Graos e Tuberculos', 'Consumo de Leguminosas',\n",
       "       'Consumo de Carnes', 'Consumo de Ovos', 'Consumo de Verduras e Legumes',\n",
       "       'Consumo de Frutas', 'Consumo de Laticinios', 'Consumo de Oleaginosas',\n",
       "       'Consumo de Refrigerantes', 'Consumo de Sucos Industrializados',\n",
       "       'Consumo de Sucos Naturais', 'Consumo de Bebidas Lacteas',\n",
       "       'Consumo de Salgadinhos e Biscoitos Salgados',\n",
       "       'Consumo de Doces e Sobremesas Industrializadas',\n",
       "       'Consumo de Embutidos e Alimentos Processados',\n",
       "       'Consumo de Paes Industrializados',\n",
       "       'Consumo de Molhos Industrializados',\n",
       "       'Substituicao de Refeicoes por Lanches Rapidos', 'Consumo de Sal'],\n",
       "      dtype='object')"
      ]
     },
     "execution_count": 14,
     "metadata": {},
     "output_type": "execute_result"
    }
   ],
   "source": [
    "# Conferindo se as colunas foram removidas\n",
    "df.columns"
   ]
  },
  {
   "cell_type": "markdown",
   "metadata": {},
   "source": [
    "## Garantindo que os dados etaram no formato correto "
   ]
  },
  {
   "cell_type": "code",
   "execution_count": 15,
   "metadata": {},
   "outputs": [
    {
     "data": {
      "text/plain": [
       "Sexo                                              category\n",
       "Apoio_Familiar                                    category\n",
       "Apoio_de_Amigos                                   category\n",
       "Tipo_de_Trabalho                                  category\n",
       "Curso_Mais_Elevado                                category\n",
       "Diagnostico_Depressao                             category\n",
       "Estado_de_Saude                                   category\n",
       "Pratica_Exercicio                                 category\n",
       "Exercicio_Mais_Frequente                          category\n",
       "Ultima_Consulta_Medica                            category\n",
       "Procura_Atendimento_Saude                         category\n",
       "Problemas_Sono                                    category\n",
       "peso_consolidado(KG)                              category\n",
       "altura_consolidada(CM)                            category\n",
       "IMC                                               category\n",
       "renda_total                                       category\n",
       "idade                                             category\n",
       "trabalhou                                         category\n",
       "horas_trabalhadas_total                           category\n",
       "doencas_cronicas                                  category\n",
       "saneamento_basico                                 category\n",
       "moradia_vulneravel                                category\n",
       "tempo_total_exercicio                             category\n",
       "frequencia_exercicio                              category\n",
       "freq_bebida_alcoolica                             category\n",
       "Consumo de Graos e Tuberculos                     category\n",
       "Consumo de Leguminosas                            category\n",
       "Consumo de Carnes                                 category\n",
       "Consumo de Ovos                                   category\n",
       "Consumo de Verduras e Legumes                     category\n",
       "Consumo de Frutas                                 category\n",
       "Consumo de Laticinios                             category\n",
       "Consumo de Oleaginosas                            category\n",
       "Consumo de Refrigerantes                          category\n",
       "Consumo de Sucos Industrializados                 category\n",
       "Consumo de Sucos Naturais                         category\n",
       "Consumo de Bebidas Lacteas                        category\n",
       "Consumo de Salgadinhos e Biscoitos Salgados       category\n",
       "Consumo de Doces e Sobremesas Industrializadas    category\n",
       "Consumo de Embutidos e Alimentos Processados      category\n",
       "Consumo de Paes Industrializados                  category\n",
       "Consumo de Molhos Industrializados                category\n",
       "Substituicao de Refeicoes por Lanches Rapidos     category\n",
       "Consumo de Sal                                    category\n",
       "dtype: object"
      ]
     },
     "execution_count": 15,
     "metadata": {},
     "output_type": "execute_result"
    }
   ],
   "source": [
    "# Converter as colunas para categóricas\n",
    "df = df.astype('category')\n",
    "df.dtypes"
   ]
  },
  {
   "cell_type": "code",
   "execution_count": 16,
   "metadata": {},
   "outputs": [
    {
     "name": "stdout",
     "output_type": "stream",
     "text": [
      "float64\n",
      "float64\n",
      "float64\n",
      "float64\n"
     ]
    }
   ],
   "source": [
    "# Lista das colunas que devem ser numéricas\n",
    "colunas_numericas = [\n",
    "       'renda_total',\n",
    "       'idade',\n",
    "       'horas_trabalhadas_total',\n",
    "       'tempo_total_exercicio'\n",
    "  ].copy() \n",
    "\n",
    "# Converter as colunas para numéricas\n",
    "df[colunas_numericas] = df[colunas_numericas].astype('float')\n",
    "\n",
    "# Verificar os tipos de dados após a conversão\n",
    "for coluna in colunas_numericas:\n",
    "    print(df[coluna].dtypes)"
   ]
  },
  {
   "cell_type": "markdown",
   "metadata": {},
   "source": [
    "## Prenchendo Valores\n"
   ]
  },
  {
   "cell_type": "markdown",
   "metadata": {},
   "source": [
    "\n",
    "> Vamos preencher algumas colunas com \"Não respondeu\" de acordo com a logica do questionário"
   ]
  },
  {
   "cell_type": "code",
   "execution_count": 17,
   "metadata": {},
   "outputs": [
    {
     "data": {
      "text/plain": [
       "Sexo                                              category\n",
       "Apoio_Familiar                                    category\n",
       "Apoio_de_Amigos                                   category\n",
       "Tipo_de_Trabalho                                  category\n",
       "Curso_Mais_Elevado                                category\n",
       "Diagnostico_Depressao                             category\n",
       "Estado_de_Saude                                   category\n",
       "Pratica_Exercicio                                 category\n",
       "Exercicio_Mais_Frequente                          category\n",
       "Ultima_Consulta_Medica                            category\n",
       "Procura_Atendimento_Saude                         category\n",
       "Problemas_Sono                                    category\n",
       "peso_consolidado(KG)                              category\n",
       "altura_consolidada(CM)                            category\n",
       "IMC                                               category\n",
       "renda_total                                        float64\n",
       "idade                                              float64\n",
       "trabalhou                                         category\n",
       "horas_trabalhadas_total                            float64\n",
       "doencas_cronicas                                  category\n",
       "saneamento_basico                                 category\n",
       "moradia_vulneravel                                category\n",
       "tempo_total_exercicio                              float64\n",
       "frequencia_exercicio                              category\n",
       "freq_bebida_alcoolica                             category\n",
       "Consumo de Graos e Tuberculos                     category\n",
       "Consumo de Leguminosas                            category\n",
       "Consumo de Carnes                                 category\n",
       "Consumo de Ovos                                   category\n",
       "Consumo de Verduras e Legumes                     category\n",
       "Consumo de Frutas                                 category\n",
       "Consumo de Laticinios                             category\n",
       "Consumo de Oleaginosas                            category\n",
       "Consumo de Refrigerantes                          category\n",
       "Consumo de Sucos Industrializados                 category\n",
       "Consumo de Sucos Naturais                         category\n",
       "Consumo de Bebidas Lacteas                        category\n",
       "Consumo de Salgadinhos e Biscoitos Salgados       category\n",
       "Consumo de Doces e Sobremesas Industrializadas    category\n",
       "Consumo de Embutidos e Alimentos Processados      category\n",
       "Consumo de Paes Industrializados                  category\n",
       "Consumo de Molhos Industrializados                category\n",
       "Substituicao de Refeicoes por Lanches Rapidos     category\n",
       "Consumo de Sal                                    category\n",
       "dtype: object"
      ]
     },
     "execution_count": 17,
     "metadata": {},
     "output_type": "execute_result"
    }
   ],
   "source": [
    "# Verificando Tipos de dados\n",
    "df.dtypes"
   ]
  },
  {
   "cell_type": "code",
   "execution_count": 18,
   "metadata": {},
   "outputs": [
    {
     "name": "stdout",
     "output_type": "stream",
     "text": [
      "Tipo_de_Trabalho            category\n",
      "Curso_Mais_Elevado          category\n",
      "Exercicio_Mais_Frequente    category\n",
      "tempo_total_exercicio        float64\n",
      "frequencia_exercicio        category\n",
      "dtype: object\n"
     ]
    }
   ],
   "source": [
    "# Verificando novamente \n",
    "valores_nulos = df.isnull().sum()\n",
    "\n",
    "colunas_com_nulos = valores_nulos[valores_nulos > 0].index\n",
    "\n",
    "tipos_dados_colunas_com_nulos = df[colunas_com_nulos].dtypes\n",
    "print(tipos_dados_colunas_com_nulos)"
   ]
  },
  {
   "cell_type": "markdown",
   "metadata": {},
   "source": [
    "### Tipo de Trabalho "
   ]
  },
  {
   "cell_type": "code",
   "execution_count": 19,
   "metadata": {},
   "outputs": [
    {
     "data": {
      "text/plain": [
       "0        6.0\n",
       "1        3.0\n",
       "2        3.0\n",
       "3        NaN\n",
       "4        3.0\n",
       "        ... \n",
       "63777    3.0\n",
       "63778    3.0\n",
       "63779    NaN\n",
       "63780    6.0\n",
       "63781    3.0\n",
       "Name: Tipo_de_Trabalho, Length: 63782, dtype: category\n",
       "Categories (7, float64): [1.0, 2.0, 3.0, 4.0, 5.0, 6.0, 7.0]"
      ]
     },
     "execution_count": 19,
     "metadata": {},
     "output_type": "execute_result"
    }
   ],
   "source": [
    "df['Tipo_de_Trabalho']"
   ]
  },
  {
   "cell_type": "code",
   "execution_count": 20,
   "metadata": {},
   "outputs": [],
   "source": [
    "# Convertendo a coluna 'Tipo_de_Trabalho' para tipo de dados string\n",
    "df['Tipo_de_Trabalho'] = df['Tipo_de_Trabalho'].astype('string')\n",
    "\n",
    "# Aplicando a lógica\n",
    "for index, row in df.iterrows():\n",
    "    if row['trabalhou'] == 1 and pd.isna(row['Tipo_de_Trabalho']):\n",
    "        df.at[index, 'Tipo_de_Trabalho'] = None\n",
    "    elif row['trabalhou'] == 2 and pd.isna(row['Tipo_de_Trabalho']):\n",
    "        df.at[index, 'Tipo_de_Trabalho'] = '0'"
   ]
  },
  {
   "cell_type": "code",
   "execution_count": 21,
   "metadata": {},
   "outputs": [],
   "source": [
    "# Retornando variável para seu tipo original \n",
    "df['Tipo_de_Trabalho'] = df['Tipo_de_Trabalho'].astype('category')"
   ]
  },
  {
   "cell_type": "code",
   "execution_count": 22,
   "metadata": {},
   "outputs": [
    {
     "data": {
      "text/plain": [
       "np.int64(0)"
      ]
     },
     "execution_count": 22,
     "metadata": {},
     "output_type": "execute_result"
    }
   ],
   "source": [
    "df['Tipo_de_Trabalho'].isna().sum()\n"
   ]
  },
  {
   "cell_type": "code",
   "execution_count": 23,
   "metadata": {},
   "outputs": [
    {
     "data": {
      "text/plain": [
       "0        6.0\n",
       "1        3.0\n",
       "2        3.0\n",
       "3          0\n",
       "4        3.0\n",
       "        ... \n",
       "63777    3.0\n",
       "63778    3.0\n",
       "63779      0\n",
       "63780    6.0\n",
       "63781    3.0\n",
       "Name: Tipo_de_Trabalho, Length: 63782, dtype: category\n",
       "Categories (8, string): [0, 1.0, 2.0, 3.0, 4.0, 5.0, 6.0, 7.0]"
      ]
     },
     "execution_count": 23,
     "metadata": {},
     "output_type": "execute_result"
    }
   ],
   "source": [
    "df['Tipo_de_Trabalho']"
   ]
  },
  {
   "cell_type": "markdown",
   "metadata": {},
   "source": [
    "# Exercicio_Mais_Frequente, tempo_total_exercicio, frequencia_exercicio"
   ]
  },
  {
   "cell_type": "code",
   "execution_count": 24,
   "metadata": {},
   "outputs": [],
   "source": [
    "# Convertendo as colunas para tipo de dados string\n",
    "df['Exercicio_Mais_Frequente'] = df['Exercicio_Mais_Frequente'].astype('string')\n",
    "\n",
    "# Aplicando a lógica\n",
    "for index, row in df.iterrows():\n",
    "    if row['Pratica_Exercicio'] == 1 and pd.isna(row['Exercicio_Mais_Frequente']):\n",
    "        df.at[index, 'Exercicio_Mais_Frequente'] = None\n",
    "    elif row['Pratica_Exercicio'] == 2 and pd.isna(row['Exercicio_Mais_Frequente']):\n",
    "        df.at[index, 'Exercicio_Mais_Frequente'] = '0'\n",
    "    \n",
    "    if row['Pratica_Exercicio'] == 1 and pd.isna(row['tempo_total_exercicio']):\n",
    "        df.at[index, 'tempo_total_exercicio'] = None\n",
    "    elif row['Pratica_Exercicio'] == 2 and pd.isna(row['tempo_total_exercicio']):\n",
    "        df.at[index, 'tempo_total_exercicio'] = 0\n",
    "    \n",
    "    if row['Pratica_Exercicio'] == 1 and pd.isna(row['frequencia_exercicio']):\n",
    "        df.at[index, 'frequencia_exercicio'] = None\n",
    "    elif row['Pratica_Exercicio'] == 2 and pd.isna(row['frequencia_exercicio']):\n",
    "        df.at[index, 'frequencia_exercicio'] = 0\n"
   ]
  },
  {
   "cell_type": "code",
   "execution_count": 25,
   "metadata": {},
   "outputs": [
    {
     "data": {
      "text/plain": [
       "Exercicio_Mais_Frequente    966\n",
       "tempo_total_exercicio       966\n",
       "frequencia_exercicio          0\n",
       "dtype: int64"
      ]
     },
     "execution_count": 25,
     "metadata": {},
     "output_type": "execute_result"
    }
   ],
   "source": [
    "df[['Exercicio_Mais_Frequente','tempo_total_exercicio', 'frequencia_exercicio' ]].isna().sum()"
   ]
  },
  {
   "cell_type": "code",
   "execution_count": 26,
   "metadata": {},
   "outputs": [],
   "source": [
    "# Retornando variável para seu tipo original \n",
    "df['Exercicio_Mais_Frequente'] = df['Exercicio_Mais_Frequente'].astype('category')"
   ]
  },
  {
   "cell_type": "markdown",
   "metadata": {},
   "source": [
    "### Conferindo quantidade de valores nulos "
   ]
  },
  {
   "cell_type": "code",
   "execution_count": 27,
   "metadata": {},
   "outputs": [
    {
     "data": {
      "text/html": [
       "<style type=\"text/css\">\n",
       "</style>\n",
       "<table id=\"T_92c34\">\n",
       "  <thead>\n",
       "    <tr>\n",
       "      <th class=\"blank level0\" >&nbsp;</th>\n",
       "      <th id=\"T_92c34_level0_col0\" class=\"col_heading level0 col0\" >% Valores Nulos</th>\n",
       "    </tr>\n",
       "  </thead>\n",
       "  <tbody>\n",
       "    <tr>\n",
       "      <th id=\"T_92c34_level0_row0\" class=\"row_heading level0 row0\" >Curso_Mais_Elevado</th>\n",
       "      <td id=\"T_92c34_row0_col0\" class=\"data row0 col0\" >11.37%</td>\n",
       "    </tr>\n",
       "    <tr>\n",
       "      <th id=\"T_92c34_level0_row1\" class=\"row_heading level0 row1\" >Exercicio_Mais_Frequente</th>\n",
       "      <td id=\"T_92c34_row1_col0\" class=\"data row1 col0\" >1.51%</td>\n",
       "    </tr>\n",
       "    <tr>\n",
       "      <th id=\"T_92c34_level0_row2\" class=\"row_heading level0 row2\" >tempo_total_exercicio</th>\n",
       "      <td id=\"T_92c34_row2_col0\" class=\"data row2 col0\" >1.51%</td>\n",
       "    </tr>\n",
       "  </tbody>\n",
       "</table>\n"
      ],
      "text/plain": [
       "<pandas.io.formats.style.Styler at 0x2db3dbe7310>"
      ]
     },
     "execution_count": 27,
     "metadata": {},
     "output_type": "execute_result"
    }
   ],
   "source": [
    "# Porcentagem destes valores \n",
    "\n",
    "# Calcular a porcentagem de valores nulos apenas nas colunas que têm valores nulos\n",
    "porcentagem_nulos = (df.isna().sum() / df.shape[0])\n",
    "\n",
    "# Filtrar apenas as colunas que têm valores nulos\n",
    "porcentagem_nulos_filtrada = porcentagem_nulos[porcentagem_nulos > 0]\n",
    "\n",
    "df_nulos=(\n",
    "porcentagem_nulos_filtrada.to_frame(\"% Valores Nulos\")\n",
    ".sort_values(\"% Valores Nulos\", ascending=False)\n",
    ")\n",
    "\n",
    "\n",
    "df_nulos.style.format('{:1.2%}', subset=['% Valores Nulos'])"
   ]
  },
  {
   "cell_type": "markdown",
   "metadata": {},
   "source": [
    "> Iremos remover as intancias dos atributos `Exercicio_Mais_Frequente` e `tempo_total_exercicio`"
   ]
  },
  {
   "cell_type": "code",
   "execution_count": 28,
   "metadata": {},
   "outputs": [],
   "source": [
    "df =  df.dropna(subset=['Exercicio_Mais_Frequente'])"
   ]
  },
  {
   "cell_type": "code",
   "execution_count": 29,
   "metadata": {},
   "outputs": [
    {
     "data": {
      "text/html": [
       "<style type=\"text/css\">\n",
       "</style>\n",
       "<table id=\"T_ca7ef\">\n",
       "  <thead>\n",
       "    <tr>\n",
       "      <th class=\"blank level0\" >&nbsp;</th>\n",
       "      <th id=\"T_ca7ef_level0_col0\" class=\"col_heading level0 col0\" >% Valores Nulos</th>\n",
       "    </tr>\n",
       "  </thead>\n",
       "  <tbody>\n",
       "    <tr>\n",
       "      <th id=\"T_ca7ef_level0_row0\" class=\"row_heading level0 row0\" >Curso_Mais_Elevado</th>\n",
       "      <td id=\"T_ca7ef_row0_col0\" class=\"data row0 col0\" >11.38%</td>\n",
       "    </tr>\n",
       "  </tbody>\n",
       "</table>\n"
      ],
      "text/plain": [
       "<pandas.io.formats.style.Styler at 0x2db3f083090>"
      ]
     },
     "execution_count": 29,
     "metadata": {},
     "output_type": "execute_result"
    }
   ],
   "source": [
    "# Porcentagem destes valores \n",
    "\n",
    "# Calcular a porcentagem de valores nulos apenas nas colunas que têm valores nulos\n",
    "porcentagem_nulos = (df.isna().sum() / df.shape[0])\n",
    "\n",
    "# Filtrar apenas as colunas que têm valores nulos\n",
    "porcentagem_nulos_filtrada = porcentagem_nulos[porcentagem_nulos > 0]\n",
    "\n",
    "df_nulos=(\n",
    "porcentagem_nulos_filtrada.to_frame(\"% Valores Nulos\")\n",
    ".sort_values(\"% Valores Nulos\", ascending=False)\n",
    ")\n",
    "\n",
    "\n",
    "df_nulos.style.format('{:1.2%}', subset=['% Valores Nulos'])"
   ]
  },
  {
   "cell_type": "code",
   "execution_count": 30,
   "metadata": {},
   "outputs": [
    {
     "data": {
      "text/plain": [
       "Diagnostico_Depressao\n",
       "2.0    57114\n",
       "1.0     5702\n",
       "Name: count, dtype: int64"
      ]
     },
     "execution_count": 30,
     "metadata": {},
     "output_type": "execute_result"
    }
   ],
   "source": [
    "df['Diagnostico_Depressao'].value_counts()"
   ]
  },
  {
   "cell_type": "code",
   "execution_count": 31,
   "metadata": {},
   "outputs": [],
   "source": [
    "df.dropna(subset=['Curso_Mais_Elevado'], inplace=True)"
   ]
  },
  {
   "cell_type": "code",
   "execution_count": 32,
   "metadata": {},
   "outputs": [
    {
     "data": {
      "text/plain": [
       "Diagnostico_Depressao\n",
       "2.0    50603\n",
       "1.0     5064\n",
       "Name: count, dtype: int64"
      ]
     },
     "execution_count": 32,
     "metadata": {},
     "output_type": "execute_result"
    }
   ],
   "source": [
    "df['Diagnostico_Depressao'].value_counts()"
   ]
  },
  {
   "cell_type": "code",
   "execution_count": 33,
   "metadata": {},
   "outputs": [
    {
     "data": {
      "text/plain": [
       "Sexo                                              0\n",
       "Apoio_Familiar                                    0\n",
       "Apoio_de_Amigos                                   0\n",
       "Tipo_de_Trabalho                                  0\n",
       "Curso_Mais_Elevado                                0\n",
       "Diagnostico_Depressao                             0\n",
       "Estado_de_Saude                                   0\n",
       "Pratica_Exercicio                                 0\n",
       "Exercicio_Mais_Frequente                          0\n",
       "Ultima_Consulta_Medica                            0\n",
       "Procura_Atendimento_Saude                         0\n",
       "Problemas_Sono                                    0\n",
       "peso_consolidado(KG)                              0\n",
       "altura_consolidada(CM)                            0\n",
       "IMC                                               0\n",
       "renda_total                                       0\n",
       "idade                                             0\n",
       "trabalhou                                         0\n",
       "horas_trabalhadas_total                           0\n",
       "doencas_cronicas                                  0\n",
       "saneamento_basico                                 0\n",
       "moradia_vulneravel                                0\n",
       "tempo_total_exercicio                             0\n",
       "frequencia_exercicio                              0\n",
       "freq_bebida_alcoolica                             0\n",
       "Consumo de Graos e Tuberculos                     0\n",
       "Consumo de Leguminosas                            0\n",
       "Consumo de Carnes                                 0\n",
       "Consumo de Ovos                                   0\n",
       "Consumo de Verduras e Legumes                     0\n",
       "Consumo de Frutas                                 0\n",
       "Consumo de Laticinios                             0\n",
       "Consumo de Oleaginosas                            0\n",
       "Consumo de Refrigerantes                          0\n",
       "Consumo de Sucos Industrializados                 0\n",
       "Consumo de Sucos Naturais                         0\n",
       "Consumo de Bebidas Lacteas                        0\n",
       "Consumo de Salgadinhos e Biscoitos Salgados       0\n",
       "Consumo de Doces e Sobremesas Industrializadas    0\n",
       "Consumo de Embutidos e Alimentos Processados      0\n",
       "Consumo de Paes Industrializados                  0\n",
       "Consumo de Molhos Industrializados                0\n",
       "Substituicao de Refeicoes por Lanches Rapidos     0\n",
       "Consumo de Sal                                    0\n",
       "dtype: int64"
      ]
     },
     "execution_count": 33,
     "metadata": {},
     "output_type": "execute_result"
    }
   ],
   "source": [
    "df.isna().sum()"
   ]
  },
  {
   "cell_type": "code",
   "execution_count": 35,
   "metadata": {},
   "outputs": [],
   "source": [
    "# Construindo o caminho para o arquivo CSV usando o caminho relativo\n",
    "#caminho = os.path.join(diretorio_atual,'..','..','..','..' ,'Data\\Bases Modificadas\\base_sem_nulos.csv')\n",
    "\n",
    "# Exportando o arquivo CSV\n",
    "df.to_csv(r'C:\\Users\\maype\\OneDrive - sga.pucminas.br\\Área de Trabalho\\Faculdade\\projects\\A Machine Learning Approach to Characterizing Depression in Brazilian Adult\\Data\\Bases Modificadas\\base_sem_nulos.csv', index= False)"
   ]
  }
 ],
 "metadata": {
  "kernelspec": {
   "display_name": "Python 3",
   "language": "python",
   "name": "python3"
  },
  "language_info": {
   "codemirror_mode": {
    "name": "ipython",
    "version": 3
   },
   "file_extension": ".py",
   "mimetype": "text/x-python",
   "name": "python",
   "nbconvert_exporter": "python",
   "pygments_lexer": "ipython3",
   "version": "3.11.9"
  }
 },
 "nbformat": 4,
 "nbformat_minor": 2
}
