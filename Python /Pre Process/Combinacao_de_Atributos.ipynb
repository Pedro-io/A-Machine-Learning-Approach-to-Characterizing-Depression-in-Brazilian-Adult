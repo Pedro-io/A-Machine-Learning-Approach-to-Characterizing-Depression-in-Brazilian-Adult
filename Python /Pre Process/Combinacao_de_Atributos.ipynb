{
 "cells": [
  {
   "cell_type": "code",
   "execution_count": 3,
   "metadata": {},
   "outputs": [],
   "source": [
    "#importando Bibliotecas\n",
    "import pandas as pd\n",
    "import numpy as np\n",
    "import os"
   ]
  },
  {
   "cell_type": "code",
   "execution_count": 4,
   "metadata": {},
   "outputs": [],
   "source": [
    "# Obtendo o diretório atual do script\n",
    "diretorio_atual = os.path.dirname(os.path.abspath('__file__'))\n",
    "\n",
    "# Construindo o caminho para o arquivo CSV usando o caminho relativo\n",
    "caminho = os.path.join(diretorio_atual,'..','..','..','..' ,'Data', 'Bases Modificadas', 'base_formatada.csv')\n",
    "\n",
    "# Carregando o arquivo CSV\n",
    "df= pd.read_csv(caminho)"
   ]
  },
  {
   "cell_type": "markdown",
   "metadata": {},
   "source": [
    "## Consolidando Colunas\n",
    "> Iremos consolidar colunas, como uma estratégia de rduzir o número de atributos, reduzir o número de valores ausentes e criar novas variaveis para nossa Base de Dados. "
   ]
  },
  {
   "cell_type": "markdown",
   "metadata": {},
   "source": [
    "### Consolidando colunas de Peso e Altura"
   ]
  },
  {
   "cell_type": "code",
   "execution_count": 5,
   "metadata": {},
   "outputs": [
    {
     "name": "stderr",
     "output_type": "stream",
     "text": [
      "C:\\Users\\maype\\AppData\\Local\\Temp\\ipykernel_14888\\1677026242.py:2: FutureWarning: DataFrame.fillna with 'method' is deprecated and will raise in a future version. Use obj.ffill() or obj.bfill() instead.\n",
      "  df['peso_consolidado(KG)'] = df[['P00102', 'P00103', 'P00104', 'W00101', 'W00102']].fillna(method='ffill', axis=1)['P00104']\n",
      "C:\\Users\\maype\\AppData\\Local\\Temp\\ipykernel_14888\\1677026242.py:3: FutureWarning: DataFrame.fillna with 'method' is deprecated and will raise in a future version. Use obj.ffill() or obj.bfill() instead.\n",
      "  df['altura_consolidada(CM)'] = df[['P00402', 'P00403', 'P00404', 'W00201', 'W00202']].fillna(method='ffill', axis=1)['P00404']\n"
     ]
    },
    {
     "data": {
      "text/html": [
       "<div>\n",
       "<style scoped>\n",
       "    .dataframe tbody tr th:only-of-type {\n",
       "        vertical-align: middle;\n",
       "    }\n",
       "\n",
       "    .dataframe tbody tr th {\n",
       "        vertical-align: top;\n",
       "    }\n",
       "\n",
       "    .dataframe thead th {\n",
       "        text-align: right;\n",
       "    }\n",
       "</style>\n",
       "<table border=\"1\" class=\"dataframe\">\n",
       "  <thead>\n",
       "    <tr style=\"text-align: right;\">\n",
       "      <th></th>\n",
       "      <th>C006</th>\n",
       "      <th>C00702</th>\n",
       "      <th>C00703</th>\n",
       "      <th>C008</th>\n",
       "      <th>M01401</th>\n",
       "      <th>M01501</th>\n",
       "      <th>E01602</th>\n",
       "      <th>E01601</th>\n",
       "      <th>E01603</th>\n",
       "      <th>E01604</th>\n",
       "      <th>...</th>\n",
       "      <th>P019</th>\n",
       "      <th>P02002</th>\n",
       "      <th>P02102</th>\n",
       "      <th>P023</th>\n",
       "      <th>P02401</th>\n",
       "      <th>P02501</th>\n",
       "      <th>P02602</th>\n",
       "      <th>P02601</th>\n",
       "      <th>peso_consolidado(KG)</th>\n",
       "      <th>altura_consolidada(CM)</th>\n",
       "    </tr>\n",
       "  </thead>\n",
       "  <tbody>\n",
       "    <tr>\n",
       "      <th>0</th>\n",
       "      <td>2.0</td>\n",
       "      <td>11.0</td>\n",
       "      <td>1963.0</td>\n",
       "      <td>55.0</td>\n",
       "      <td>3.0</td>\n",
       "      <td>0.0</td>\n",
       "      <td>100.0</td>\n",
       "      <td>1.0</td>\n",
       "      <td>NaN</td>\n",
       "      <td>NaN</td>\n",
       "      <td>...</td>\n",
       "      <td>NaN</td>\n",
       "      <td>1.0</td>\n",
       "      <td>2.0</td>\n",
       "      <td>7.0</td>\n",
       "      <td>2.0</td>\n",
       "      <td>0.0</td>\n",
       "      <td>0.0</td>\n",
       "      <td>3.0</td>\n",
       "      <td>60.0</td>\n",
       "      <td>145.0</td>\n",
       "    </tr>\n",
       "    <tr>\n",
       "      <th>1</th>\n",
       "      <td>2.0</td>\n",
       "      <td>11.0</td>\n",
       "      <td>1973.0</td>\n",
       "      <td>45.0</td>\n",
       "      <td>1.0</td>\n",
       "      <td>1.0</td>\n",
       "      <td>1000.0</td>\n",
       "      <td>1.0</td>\n",
       "      <td>NaN</td>\n",
       "      <td>NaN</td>\n",
       "      <td>...</td>\n",
       "      <td>2.0</td>\n",
       "      <td>0.0</td>\n",
       "      <td>NaN</td>\n",
       "      <td>0.0</td>\n",
       "      <td>NaN</td>\n",
       "      <td>0.0</td>\n",
       "      <td>0.0</td>\n",
       "      <td>4.0</td>\n",
       "      <td>77.0</td>\n",
       "      <td>155.0</td>\n",
       "    </tr>\n",
       "    <tr>\n",
       "      <th>2</th>\n",
       "      <td>2.0</td>\n",
       "      <td>8.0</td>\n",
       "      <td>1960.0</td>\n",
       "      <td>58.0</td>\n",
       "      <td>1.0</td>\n",
       "      <td>0.0</td>\n",
       "      <td>240.0</td>\n",
       "      <td>1.0</td>\n",
       "      <td>NaN</td>\n",
       "      <td>NaN</td>\n",
       "      <td>...</td>\n",
       "      <td>NaN</td>\n",
       "      <td>3.0</td>\n",
       "      <td>2.0</td>\n",
       "      <td>0.0</td>\n",
       "      <td>NaN</td>\n",
       "      <td>0.0</td>\n",
       "      <td>0.0</td>\n",
       "      <td>3.0</td>\n",
       "      <td>56.0</td>\n",
       "      <td>159.0</td>\n",
       "    </tr>\n",
       "    <tr>\n",
       "      <th>3</th>\n",
       "      <td>2.0</td>\n",
       "      <td>7.0</td>\n",
       "      <td>1990.0</td>\n",
       "      <td>28.0</td>\n",
       "      <td>3.0</td>\n",
       "      <td>0.0</td>\n",
       "      <td>NaN</td>\n",
       "      <td>NaN</td>\n",
       "      <td>NaN</td>\n",
       "      <td>NaN</td>\n",
       "      <td>...</td>\n",
       "      <td>NaN</td>\n",
       "      <td>1.0</td>\n",
       "      <td>2.0</td>\n",
       "      <td>7.0</td>\n",
       "      <td>2.0</td>\n",
       "      <td>2.0</td>\n",
       "      <td>0.0</td>\n",
       "      <td>3.0</td>\n",
       "      <td>55.0</td>\n",
       "      <td>176.0</td>\n",
       "    </tr>\n",
       "    <tr>\n",
       "      <th>4</th>\n",
       "      <td>2.0</td>\n",
       "      <td>99.0</td>\n",
       "      <td>9999.0</td>\n",
       "      <td>41.0</td>\n",
       "      <td>3.0</td>\n",
       "      <td>0.0</td>\n",
       "      <td>998.0</td>\n",
       "      <td>1.0</td>\n",
       "      <td>NaN</td>\n",
       "      <td>NaN</td>\n",
       "      <td>...</td>\n",
       "      <td>2.0</td>\n",
       "      <td>1.0</td>\n",
       "      <td>2.0</td>\n",
       "      <td>7.0</td>\n",
       "      <td>1.0</td>\n",
       "      <td>1.0</td>\n",
       "      <td>0.0</td>\n",
       "      <td>3.0</td>\n",
       "      <td>75.0</td>\n",
       "      <td>170.0</td>\n",
       "    </tr>\n",
       "  </tbody>\n",
       "</table>\n",
       "<p>5 rows × 129 columns</p>\n",
       "</div>"
      ],
      "text/plain": [
       "   C006  C00702  C00703  C008  M01401  M01501  E01602  E01601  E01603  E01604  \\\n",
       "0   2.0    11.0  1963.0  55.0     3.0     0.0   100.0     1.0     NaN     NaN   \n",
       "1   2.0    11.0  1973.0  45.0     1.0     1.0  1000.0     1.0     NaN     NaN   \n",
       "2   2.0     8.0  1960.0  58.0     1.0     0.0   240.0     1.0     NaN     NaN   \n",
       "3   2.0     7.0  1990.0  28.0     3.0     0.0     NaN     NaN     NaN     NaN   \n",
       "4   2.0    99.0  9999.0  41.0     3.0     0.0   998.0     1.0     NaN     NaN   \n",
       "\n",
       "   ...  P019  P02002  P02102  P023  P02401  P02501  P02602  P02601  \\\n",
       "0  ...   NaN     1.0     2.0   7.0     2.0     0.0     0.0     3.0   \n",
       "1  ...   2.0     0.0     NaN   0.0     NaN     0.0     0.0     4.0   \n",
       "2  ...   NaN     3.0     2.0   0.0     NaN     0.0     0.0     3.0   \n",
       "3  ...   NaN     1.0     2.0   7.0     2.0     2.0     0.0     3.0   \n",
       "4  ...   2.0     1.0     2.0   7.0     1.0     1.0     0.0     3.0   \n",
       "\n",
       "   peso_consolidado(KG)  altura_consolidada(CM)  \n",
       "0                  60.0                   145.0  \n",
       "1                  77.0                   155.0  \n",
       "2                  56.0                   159.0  \n",
       "3                  55.0                   176.0  \n",
       "4                  75.0                   170.0  \n",
       "\n",
       "[5 rows x 129 columns]"
      ]
     },
     "execution_count": 5,
     "metadata": {},
     "output_type": "execute_result"
    }
   ],
   "source": [
    "# Preencher os valores nulos nas colunas de peso e altura usando todas as colunas disponíveis\n",
    "df['peso_consolidado(KG)'] = df[['P00102', 'P00103', 'P00104', 'W00101', 'W00102']].fillna(method='ffill', axis=1)['P00104']\n",
    "df['altura_consolidada(CM)'] = df[['P00402', 'P00403', 'P00404', 'W00201', 'W00202']].fillna(method='ffill', axis=1)['P00404']\n",
    "\n",
    "# Remover as colunas originais de peso e altura\n",
    "df.drop(columns=['P00102', 'P00103', 'P00104', 'W00101', 'W00102', 'P00402', 'P00403', 'P00404', 'W00201', 'W00202'], inplace=True)\n",
    "\n",
    "\n",
    "# Exibir as primeiras linhas para verificar se os valores foram preenchidos corretamente e as colunas foram removidas\n",
    "df.head()\n"
   ]
  },
  {
   "cell_type": "code",
   "execution_count": 6,
   "metadata": {},
   "outputs": [
    {
     "name": "stdout",
     "output_type": "stream",
     "text": [
      "ficamos com 0 valores nulos em Peso e 0 valores nulos em Altura\n"
     ]
    }
   ],
   "source": [
    "# contando valores nulos\n",
    "nullp = df['peso_consolidado(KG)'].isna().sum()\n",
    "nulla = df['altura_consolidada(CM)'].isna().sum()\n",
    "\n",
    "print(f\"ficamos com { nullp } valores nulos em Peso e { nulla } valores nulos em Altura\") "
   ]
  },
  {
   "cell_type": "code",
   "execution_count": 7,
   "metadata": {},
   "outputs": [],
   "source": [
    "# Calcule o IMC\n",
    "df['IMC'] = df['peso_consolidado(KG)'] / ((df['altura_consolidada(CM)'] / 100) ** 2)\n"
   ]
  },
  {
   "cell_type": "markdown",
   "metadata": {},
   "source": [
    "### Consolidando colunas de Renda"
   ]
  },
  {
   "cell_type": "code",
   "execution_count": 8,
   "metadata": {},
   "outputs": [
    {
     "data": {
      "text/html": [
       "<div>\n",
       "<style scoped>\n",
       "    .dataframe tbody tr th:only-of-type {\n",
       "        vertical-align: middle;\n",
       "    }\n",
       "\n",
       "    .dataframe tbody tr th {\n",
       "        vertical-align: top;\n",
       "    }\n",
       "\n",
       "    .dataframe thead th {\n",
       "        text-align: right;\n",
       "    }\n",
       "</style>\n",
       "<table border=\"1\" class=\"dataframe\">\n",
       "  <thead>\n",
       "    <tr style=\"text-align: right;\">\n",
       "      <th></th>\n",
       "      <th>C006</th>\n",
       "      <th>C00702</th>\n",
       "      <th>C00703</th>\n",
       "      <th>C008</th>\n",
       "      <th>M01401</th>\n",
       "      <th>M01501</th>\n",
       "      <th>E01603</th>\n",
       "      <th>E01604</th>\n",
       "      <th>E01801</th>\n",
       "      <th>E01803</th>\n",
       "      <th>...</th>\n",
       "      <th>P02102</th>\n",
       "      <th>P023</th>\n",
       "      <th>P02401</th>\n",
       "      <th>P02501</th>\n",
       "      <th>P02602</th>\n",
       "      <th>P02601</th>\n",
       "      <th>peso_consolidado(KG)</th>\n",
       "      <th>altura_consolidada(CM)</th>\n",
       "      <th>IMC</th>\n",
       "      <th>renda_total</th>\n",
       "    </tr>\n",
       "  </thead>\n",
       "  <tbody>\n",
       "    <tr>\n",
       "      <th>0</th>\n",
       "      <td>2.0</td>\n",
       "      <td>11.0</td>\n",
       "      <td>1963.0</td>\n",
       "      <td>55.0</td>\n",
       "      <td>3.0</td>\n",
       "      <td>0.0</td>\n",
       "      <td>NaN</td>\n",
       "      <td>NaN</td>\n",
       "      <td>NaN</td>\n",
       "      <td>NaN</td>\n",
       "      <td>...</td>\n",
       "      <td>2.0</td>\n",
       "      <td>7.0</td>\n",
       "      <td>2.0</td>\n",
       "      <td>0.0</td>\n",
       "      <td>0.0</td>\n",
       "      <td>3.0</td>\n",
       "      <td>60.0</td>\n",
       "      <td>145.0</td>\n",
       "      <td>28.537455</td>\n",
       "      <td>101.0</td>\n",
       "    </tr>\n",
       "    <tr>\n",
       "      <th>1</th>\n",
       "      <td>2.0</td>\n",
       "      <td>11.0</td>\n",
       "      <td>1973.0</td>\n",
       "      <td>45.0</td>\n",
       "      <td>1.0</td>\n",
       "      <td>1.0</td>\n",
       "      <td>NaN</td>\n",
       "      <td>NaN</td>\n",
       "      <td>NaN</td>\n",
       "      <td>NaN</td>\n",
       "      <td>...</td>\n",
       "      <td>NaN</td>\n",
       "      <td>0.0</td>\n",
       "      <td>NaN</td>\n",
       "      <td>0.0</td>\n",
       "      <td>0.0</td>\n",
       "      <td>4.0</td>\n",
       "      <td>77.0</td>\n",
       "      <td>155.0</td>\n",
       "      <td>32.049948</td>\n",
       "      <td>1001.0</td>\n",
       "    </tr>\n",
       "    <tr>\n",
       "      <th>2</th>\n",
       "      <td>2.0</td>\n",
       "      <td>8.0</td>\n",
       "      <td>1960.0</td>\n",
       "      <td>58.0</td>\n",
       "      <td>1.0</td>\n",
       "      <td>0.0</td>\n",
       "      <td>NaN</td>\n",
       "      <td>NaN</td>\n",
       "      <td>NaN</td>\n",
       "      <td>NaN</td>\n",
       "      <td>...</td>\n",
       "      <td>2.0</td>\n",
       "      <td>0.0</td>\n",
       "      <td>NaN</td>\n",
       "      <td>0.0</td>\n",
       "      <td>0.0</td>\n",
       "      <td>3.0</td>\n",
       "      <td>56.0</td>\n",
       "      <td>159.0</td>\n",
       "      <td>22.151023</td>\n",
       "      <td>325.0</td>\n",
       "    </tr>\n",
       "    <tr>\n",
       "      <th>3</th>\n",
       "      <td>2.0</td>\n",
       "      <td>7.0</td>\n",
       "      <td>1990.0</td>\n",
       "      <td>28.0</td>\n",
       "      <td>3.0</td>\n",
       "      <td>0.0</td>\n",
       "      <td>NaN</td>\n",
       "      <td>NaN</td>\n",
       "      <td>NaN</td>\n",
       "      <td>NaN</td>\n",
       "      <td>...</td>\n",
       "      <td>2.0</td>\n",
       "      <td>7.0</td>\n",
       "      <td>2.0</td>\n",
       "      <td>2.0</td>\n",
       "      <td>0.0</td>\n",
       "      <td>3.0</td>\n",
       "      <td>55.0</td>\n",
       "      <td>176.0</td>\n",
       "      <td>17.755682</td>\n",
       "      <td>0.0</td>\n",
       "    </tr>\n",
       "    <tr>\n",
       "      <th>4</th>\n",
       "      <td>2.0</td>\n",
       "      <td>99.0</td>\n",
       "      <td>9999.0</td>\n",
       "      <td>41.0</td>\n",
       "      <td>3.0</td>\n",
       "      <td>0.0</td>\n",
       "      <td>NaN</td>\n",
       "      <td>NaN</td>\n",
       "      <td>NaN</td>\n",
       "      <td>NaN</td>\n",
       "      <td>...</td>\n",
       "      <td>2.0</td>\n",
       "      <td>7.0</td>\n",
       "      <td>1.0</td>\n",
       "      <td>1.0</td>\n",
       "      <td>0.0</td>\n",
       "      <td>3.0</td>\n",
       "      <td>75.0</td>\n",
       "      <td>170.0</td>\n",
       "      <td>25.951557</td>\n",
       "      <td>999.0</td>\n",
       "    </tr>\n",
       "  </tbody>\n",
       "</table>\n",
       "<p>5 rows × 122 columns</p>\n",
       "</div>"
      ],
      "text/plain": [
       "   C006  C00702  C00703  C008  M01401  M01501  E01603  E01604  E01801  E01803  \\\n",
       "0   2.0    11.0  1963.0  55.0     3.0     0.0     NaN     NaN     NaN     NaN   \n",
       "1   2.0    11.0  1973.0  45.0     1.0     1.0     NaN     NaN     NaN     NaN   \n",
       "2   2.0     8.0  1960.0  58.0     1.0     0.0     NaN     NaN     NaN     NaN   \n",
       "3   2.0     7.0  1990.0  28.0     3.0     0.0     NaN     NaN     NaN     NaN   \n",
       "4   2.0    99.0  9999.0  41.0     3.0     0.0     NaN     NaN     NaN     NaN   \n",
       "\n",
       "   ...  P02102  P023  P02401  P02501  P02602  P02601  peso_consolidado(KG)  \\\n",
       "0  ...     2.0   7.0     2.0     0.0     0.0     3.0                  60.0   \n",
       "1  ...     NaN   0.0     NaN     0.0     0.0     4.0                  77.0   \n",
       "2  ...     2.0   0.0     NaN     0.0     0.0     3.0                  56.0   \n",
       "3  ...     2.0   7.0     2.0     2.0     0.0     3.0                  55.0   \n",
       "4  ...     2.0   7.0     1.0     1.0     0.0     3.0                  75.0   \n",
       "\n",
       "   altura_consolidada(CM)        IMC  renda_total  \n",
       "0                   145.0  28.537455        101.0  \n",
       "1                   155.0  32.049948       1001.0  \n",
       "2                   159.0  22.151023        325.0  \n",
       "3                   176.0  17.755682          0.0  \n",
       "4                   170.0  25.951557        999.0  \n",
       "\n",
       "[5 rows x 122 columns]"
      ]
     },
     "execution_count": 8,
     "metadata": {},
     "output_type": "execute_result"
    }
   ],
   "source": [
    "# Definir as colunas relacionadas à renda que serão somadas\n",
    "colunas_renda = [\n",
    "\n",
    "    'E01602', 'E01601', 'E01605', 'E01802', 'E01804',\n",
    "    'F001021', 'F007021', 'F008021', 'VDF00102',\n",
    "]\n",
    "\n",
    "# Preencher os valores nulos nas colunas de renda com zero\n",
    "df[colunas_renda] = df[colunas_renda].fillna(0)\n",
    "\n",
    "# Somar as colunas relacionadas à renda em uma nova coluna 'renda_total'\n",
    "df['renda_total'] = df[colunas_renda].sum(axis=1)\n",
    "\n",
    "# Remover as colunas originais relacionadas à renda\n",
    "df.drop(columns=colunas_renda, inplace=True)\n",
    "\n",
    "# Exibir as primeiras linhas para verificar se os valores foram preenchidos corretamente e as colunas foram removidas\n",
    "df.head()"
   ]
  },
  {
   "cell_type": "code",
   "execution_count": 9,
   "metadata": {},
   "outputs": [
    {
     "data": {
      "text/plain": [
       "np.int64(0)"
      ]
     },
     "execution_count": 9,
     "metadata": {},
     "output_type": "execute_result"
    }
   ],
   "source": [
    "# contando valores nulos\n",
    "df['renda_total'].isna().sum()"
   ]
  },
  {
   "cell_type": "markdown",
   "metadata": {},
   "source": [
    "###  Condolidando Idade, Ano de Nascimento e Mês de Nascimento "
   ]
  },
  {
   "cell_type": "code",
   "execution_count": 10,
   "metadata": {},
   "outputs": [
    {
     "name": "stdout",
     "output_type": "stream",
     "text": [
      "0    55.0\n",
      "1    45.0\n",
      "2    58.0\n",
      "3    28.0\n",
      "4    41.0\n",
      "Name: idade, dtype: float64\n"
     ]
    }
   ],
   "source": [
    "# Calcular a idade apenas para os valores nulos de idade\n",
    "df['idade'] = np.where(df['C008'].isnull(), 2019 - df['C00703'], df['C008'])\n",
    "\n",
    "# Remover as colunas de mês e ano de nascimento, e a coluna de idade original\n",
    "df.drop(columns=['C00702', 'C00703', 'C008'], inplace=True)\n",
    "\n",
    "# Exibir as primeiras linhas para verificar se o cálculo da idade foi feito corretamente e as colunas foram removidas\n",
    "print(df['idade'].head())"
   ]
  },
  {
   "cell_type": "code",
   "execution_count": 11,
   "metadata": {},
   "outputs": [
    {
     "data": {
      "text/plain": [
       "np.int64(0)"
      ]
     },
     "execution_count": 11,
     "metadata": {},
     "output_type": "execute_result"
    }
   ],
   "source": [
    "# contando valores nulos\n",
    "df['idade'].isna().sum()"
   ]
  },
  {
   "cell_type": "markdown",
   "metadata": {},
   "source": [
    "### Consolidando colunas com informações sobre o trabalho "
   ]
  },
  {
   "cell_type": "code",
   "execution_count": 12,
   "metadata": {},
   "outputs": [
    {
     "data": {
      "text/plain": [
       "0    1.0\n",
       "1    1.0\n",
       "2    1.0\n",
       "3    2.0\n",
       "4    1.0\n",
       "Name: trabalhou, dtype: float64"
      ]
     },
     "execution_count": 12,
     "metadata": {},
     "output_type": "execute_result"
    }
   ],
   "source": [
    "# Verificar se ambas as colunas 'E001' e 'E002' estão nulas e atribuir NaN para 'trabalhou'\n",
    "df['trabalhou'] = df.apply(lambda row: np.nan if pd.isna(row['E001']) and pd.isna(row['E002']) else row['E001'] if pd.notna(row['E001']) else row['E002'], axis=1)\n",
    "\n",
    "# Remover as colunas 'E001' e 'E002'\n",
    "df.drop(columns=['E001', 'E002'], inplace=True)\n",
    "\n",
    "# Exibir as primeiras linhas para verificar se a junção foi feita corretamente e as colunas foram removidas\n",
    "df['trabalhou'].head()"
   ]
  },
  {
   "cell_type": "code",
   "execution_count": 13,
   "metadata": {},
   "outputs": [
    {
     "data": {
      "text/plain": [
       "trabalhou\n",
       "1.0    41923\n",
       "2.0    21859\n",
       "Name: count, dtype: int64"
      ]
     },
     "execution_count": 13,
     "metadata": {},
     "output_type": "execute_result"
    }
   ],
   "source": [
    "df['trabalhou'].value_counts()"
   ]
  },
  {
   "cell_type": "code",
   "execution_count": 14,
   "metadata": {},
   "outputs": [
    {
     "data": {
      "text/plain": [
       "np.int64(0)"
      ]
     },
     "execution_count": 14,
     "metadata": {},
     "output_type": "execute_result"
    }
   ],
   "source": [
    "df['trabalhou'].isna().sum()"
   ]
  },
  {
   "cell_type": "markdown",
   "metadata": {},
   "source": [
    "### Consolidando colunas sobre medicamento para depressão "
   ]
  },
  {
   "cell_type": "code",
   "execution_count": 15,
   "metadata": {},
   "outputs": [
    {
     "data": {
      "text/plain": [
       "0    1.0\n",
       "1    NaN\n",
       "2    NaN\n",
       "3    NaN\n",
       "4    NaN\n",
       "Name: medicamento_depressao, dtype: float64"
      ]
     },
     "execution_count": 15,
     "metadata": {},
     "output_type": "execute_result"
    }
   ],
   "source": [
    "# Verificar se ambas as colunas 'Q09201' e 'Q09202' estão nulas e atribuir NaN para 'medicamento_depressao'\n",
    "df['medicamento_depressao'] = df.apply(lambda row: np.nan if pd.isna(row['Q09201']) and pd.isna(row['Q09202']) else row['Q09201'] if pd.notna(row['Q09201']) else row['Q09202'], axis=1)\n",
    "\n",
    "# Remover as colunas 'Q09201' e 'Q09202'\n",
    "df.drop(columns=['Q09201', 'Q09202'], inplace=True)\n",
    "\n",
    "# Exibir as primeiras linhas para verificar se a junção foi feita corretamente e as colunas foram removidas\n",
    "df['medicamento_depressao'].head()"
   ]
  },
  {
   "cell_type": "code",
   "execution_count": 16,
   "metadata": {},
   "outputs": [
    {
     "data": {
      "text/plain": [
       "np.int64(57990)"
      ]
     },
     "execution_count": 16,
     "metadata": {},
     "output_type": "execute_result"
    }
   ],
   "source": [
    "# contando valores nulos\n",
    "df['medicamento_depressao'].isna().sum()"
   ]
  },
  {
   "cell_type": "markdown",
   "metadata": {},
   "source": [
    "> Observamos que mesmo consolidando vários atributos, nosso novo atributo **\"medicamento_depressao\"** ainda contem 35.765 intâncias **nulas**. \n",
    "> Vamos optar por remover este atributo por dois motivos: \n",
    ">  - Quantidade de valores nulos. \n",
    ">  - Relação direta com nosso dominio de problema, oque pode interferir na construção de nosso modelo. "
   ]
  },
  {
   "cell_type": "code",
   "execution_count": 17,
   "metadata": {},
   "outputs": [],
   "source": [
    "df.drop(columns=['medicamento_depressao'], inplace=True)"
   ]
  },
  {
   "cell_type": "markdown",
   "metadata": {},
   "source": [
    "### Consolidando Colunas de Horas Trabalhadas"
   ]
  },
  {
   "cell_type": "code",
   "execution_count": 18,
   "metadata": {},
   "outputs": [
    {
     "data": {
      "text/html": [
       "<div>\n",
       "<style scoped>\n",
       "    .dataframe tbody tr th:only-of-type {\n",
       "        vertical-align: middle;\n",
       "    }\n",
       "\n",
       "    .dataframe tbody tr th {\n",
       "        vertical-align: top;\n",
       "    }\n",
       "\n",
       "    .dataframe thead th {\n",
       "        text-align: right;\n",
       "    }\n",
       "</style>\n",
       "<table border=\"1\" class=\"dataframe\">\n",
       "  <thead>\n",
       "    <tr style=\"text-align: right;\">\n",
       "      <th></th>\n",
       "      <th>C006</th>\n",
       "      <th>M01401</th>\n",
       "      <th>M01501</th>\n",
       "      <th>E01603</th>\n",
       "      <th>E01604</th>\n",
       "      <th>E01801</th>\n",
       "      <th>E01803</th>\n",
       "      <th>E01805</th>\n",
       "      <th>F001011</th>\n",
       "      <th>F007011</th>\n",
       "      <th>...</th>\n",
       "      <th>P02501</th>\n",
       "      <th>P02602</th>\n",
       "      <th>P02601</th>\n",
       "      <th>peso_consolidado(KG)</th>\n",
       "      <th>altura_consolidada(CM)</th>\n",
       "      <th>IMC</th>\n",
       "      <th>renda_total</th>\n",
       "      <th>idade</th>\n",
       "      <th>trabalhou</th>\n",
       "      <th>horas_trabalhadas_total</th>\n",
       "    </tr>\n",
       "  </thead>\n",
       "  <tbody>\n",
       "    <tr>\n",
       "      <th>0</th>\n",
       "      <td>2.0</td>\n",
       "      <td>3.0</td>\n",
       "      <td>0.0</td>\n",
       "      <td>NaN</td>\n",
       "      <td>NaN</td>\n",
       "      <td>NaN</td>\n",
       "      <td>NaN</td>\n",
       "      <td>NaN</td>\n",
       "      <td>2.0</td>\n",
       "      <td>2.0</td>\n",
       "      <td>...</td>\n",
       "      <td>0.0</td>\n",
       "      <td>0.0</td>\n",
       "      <td>3.0</td>\n",
       "      <td>60.0</td>\n",
       "      <td>145.0</td>\n",
       "      <td>28.537455</td>\n",
       "      <td>101.0</td>\n",
       "      <td>55.0</td>\n",
       "      <td>1.0</td>\n",
       "      <td>40.0</td>\n",
       "    </tr>\n",
       "    <tr>\n",
       "      <th>1</th>\n",
       "      <td>2.0</td>\n",
       "      <td>1.0</td>\n",
       "      <td>1.0</td>\n",
       "      <td>NaN</td>\n",
       "      <td>NaN</td>\n",
       "      <td>NaN</td>\n",
       "      <td>NaN</td>\n",
       "      <td>NaN</td>\n",
       "      <td>2.0</td>\n",
       "      <td>2.0</td>\n",
       "      <td>...</td>\n",
       "      <td>0.0</td>\n",
       "      <td>0.0</td>\n",
       "      <td>4.0</td>\n",
       "      <td>77.0</td>\n",
       "      <td>155.0</td>\n",
       "      <td>32.049948</td>\n",
       "      <td>1001.0</td>\n",
       "      <td>45.0</td>\n",
       "      <td>1.0</td>\n",
       "      <td>36.0</td>\n",
       "    </tr>\n",
       "    <tr>\n",
       "      <th>2</th>\n",
       "      <td>2.0</td>\n",
       "      <td>1.0</td>\n",
       "      <td>0.0</td>\n",
       "      <td>NaN</td>\n",
       "      <td>NaN</td>\n",
       "      <td>NaN</td>\n",
       "      <td>NaN</td>\n",
       "      <td>NaN</td>\n",
       "      <td>2.0</td>\n",
       "      <td>2.0</td>\n",
       "      <td>...</td>\n",
       "      <td>0.0</td>\n",
       "      <td>0.0</td>\n",
       "      <td>3.0</td>\n",
       "      <td>56.0</td>\n",
       "      <td>159.0</td>\n",
       "      <td>22.151023</td>\n",
       "      <td>325.0</td>\n",
       "      <td>58.0</td>\n",
       "      <td>1.0</td>\n",
       "      <td>6.0</td>\n",
       "    </tr>\n",
       "    <tr>\n",
       "      <th>3</th>\n",
       "      <td>2.0</td>\n",
       "      <td>3.0</td>\n",
       "      <td>0.0</td>\n",
       "      <td>NaN</td>\n",
       "      <td>NaN</td>\n",
       "      <td>NaN</td>\n",
       "      <td>NaN</td>\n",
       "      <td>NaN</td>\n",
       "      <td>2.0</td>\n",
       "      <td>2.0</td>\n",
       "      <td>...</td>\n",
       "      <td>2.0</td>\n",
       "      <td>0.0</td>\n",
       "      <td>3.0</td>\n",
       "      <td>55.0</td>\n",
       "      <td>176.0</td>\n",
       "      <td>17.755682</td>\n",
       "      <td>0.0</td>\n",
       "      <td>28.0</td>\n",
       "      <td>2.0</td>\n",
       "      <td>0.0</td>\n",
       "    </tr>\n",
       "    <tr>\n",
       "      <th>4</th>\n",
       "      <td>2.0</td>\n",
       "      <td>3.0</td>\n",
       "      <td>0.0</td>\n",
       "      <td>NaN</td>\n",
       "      <td>NaN</td>\n",
       "      <td>NaN</td>\n",
       "      <td>NaN</td>\n",
       "      <td>NaN</td>\n",
       "      <td>2.0</td>\n",
       "      <td>2.0</td>\n",
       "      <td>...</td>\n",
       "      <td>1.0</td>\n",
       "      <td>0.0</td>\n",
       "      <td>3.0</td>\n",
       "      <td>75.0</td>\n",
       "      <td>170.0</td>\n",
       "      <td>25.951557</td>\n",
       "      <td>999.0</td>\n",
       "      <td>41.0</td>\n",
       "      <td>1.0</td>\n",
       "      <td>16.0</td>\n",
       "    </tr>\n",
       "  </tbody>\n",
       "</table>\n",
       "<p>5 rows × 116 columns</p>\n",
       "</div>"
      ],
      "text/plain": [
       "   C006  M01401  M01501  E01603  E01604  E01801  E01803  E01805  F001011  \\\n",
       "0   2.0     3.0     0.0     NaN     NaN     NaN     NaN     NaN      2.0   \n",
       "1   2.0     1.0     1.0     NaN     NaN     NaN     NaN     NaN      2.0   \n",
       "2   2.0     1.0     0.0     NaN     NaN     NaN     NaN     NaN      2.0   \n",
       "3   2.0     3.0     0.0     NaN     NaN     NaN     NaN     NaN      2.0   \n",
       "4   2.0     3.0     0.0     NaN     NaN     NaN     NaN     NaN      2.0   \n",
       "\n",
       "   F007011  ...  P02501  P02602  P02601  peso_consolidado(KG)  \\\n",
       "0      2.0  ...     0.0     0.0     3.0                  60.0   \n",
       "1      2.0  ...     0.0     0.0     4.0                  77.0   \n",
       "2      2.0  ...     0.0     0.0     3.0                  56.0   \n",
       "3      2.0  ...     2.0     0.0     3.0                  55.0   \n",
       "4      2.0  ...     1.0     0.0     3.0                  75.0   \n",
       "\n",
       "   altura_consolidada(CM)        IMC  renda_total  idade  trabalhou  \\\n",
       "0                   145.0  28.537455        101.0   55.0        1.0   \n",
       "1                   155.0  32.049948       1001.0   45.0        1.0   \n",
       "2                   159.0  22.151023        325.0   58.0        1.0   \n",
       "3                   176.0  17.755682          0.0   28.0        2.0   \n",
       "4                   170.0  25.951557        999.0   41.0        1.0   \n",
       "\n",
       "   horas_trabalhadas_total  \n",
       "0                     40.0  \n",
       "1                     36.0  \n",
       "2                      6.0  \n",
       "3                      0.0  \n",
       "4                     16.0  \n",
       "\n",
       "[5 rows x 116 columns]"
      ]
     },
     "execution_count": 18,
     "metadata": {},
     "output_type": "execute_result"
    }
   ],
   "source": [
    "# Definir as colunas relacionadas às horas trabalhadas que serão somadas\n",
    "colunas_horas_trabalhadas = ['E017', 'E019']\n",
    "\n",
    "# Converter colunas categóricas para numéricas\n",
    "df[colunas_horas_trabalhadas] = df[colunas_horas_trabalhadas].apply(pd.to_numeric, errors='coerce')\n",
    "\n",
    "# Preencher os valores nulos nas colunas de horas trabalhadas com zero\n",
    "df[colunas_horas_trabalhadas] = df[colunas_horas_trabalhadas].fillna(0)\n",
    "\n",
    "# Somar as colunas relacionadas às horas trabalhadas em uma nova coluna 'horas_trabalhadas_total'\n",
    "df['horas_trabalhadas_total'] = df[colunas_horas_trabalhadas].sum(axis=1)\n",
    "\n",
    "# Remover as colunas originais relacionadas às horas trabalhadas\n",
    "df.drop(columns=colunas_horas_trabalhadas, inplace=True)\n",
    "\n",
    "# Exibir as primeiras linhas para verificar se os valores foram preenchidos corretamente e as colunas foram removidas\n",
    "df.head()"
   ]
  },
  {
   "cell_type": "code",
   "execution_count": 19,
   "metadata": {},
   "outputs": [
    {
     "data": {
      "text/plain": [
       "np.int64(0)"
      ]
     },
     "execution_count": 19,
     "metadata": {},
     "output_type": "execute_result"
    }
   ],
   "source": [
    "# contando valores nulos\n",
    "df['horas_trabalhadas_total'].isna().sum()"
   ]
  },
  {
   "cell_type": "markdown",
   "metadata": {},
   "source": [
    "### Consolidando colunas sobre doençãs crônicas "
   ]
  },
  {
   "cell_type": "code",
   "execution_count": 20,
   "metadata": {},
   "outputs": [
    {
     "data": {
      "text/plain": [
       "0    1\n",
       "1    2\n",
       "2    2\n",
       "3    2\n",
       "4    2\n",
       "Name: doencas_cronicas, dtype: int64"
      ]
     },
     "execution_count": 20,
     "metadata": {},
     "output_type": "execute_result"
    }
   ],
   "source": [
    "def definir_doencas_cronicas(row):\n",
    "    if row['J007'] == 1 or row['Q11006'] == 1 or row['Q11007'] == 1 or row['Q11008'] == 1 or row['Q11009'] == 1 or row['Q11010'] == 1:\n",
    "        return 1  # Possui doença crônica\n",
    "    else:\n",
    "        return 2  # Não possui doença crônica\n",
    "\n",
    "# Criar a coluna 'doencas_cronicas' aplicando a função definir_doencas_cronicas\n",
    "df['doencas_cronicas'] = df.apply(definir_doencas_cronicas, axis=1)\n",
    "\n",
    "#Remover as colunas que não serão mais necessárias\n",
    "colunas_para_remover = ['J007', 'Q11006', 'Q11007', 'Q11008', 'Q11009', 'Q11010']\n",
    "df.drop(columns=colunas_para_remover, inplace=True)\n",
    "\n",
    "# Exibir as primeiras linhas para verificar a criação da nova coluna\n",
    " \n",
    "df['doencas_cronicas'].head()"
   ]
  },
  {
   "cell_type": "code",
   "execution_count": 21,
   "metadata": {},
   "outputs": [
    {
     "data": {
      "text/plain": [
       "np.int64(0)"
      ]
     },
     "execution_count": 21,
     "metadata": {},
     "output_type": "execute_result"
    }
   ],
   "source": [
    "df['doencas_cronicas'].isna().sum()"
   ]
  },
  {
   "cell_type": "markdown",
   "metadata": {},
   "source": [
    "> Caracterização de Saneamento Básico\n",
    ">\n",
    "> - Código\n",
    "> Nesta célula, foi implementada uma função em Python para caracterizar a situação de saneamento básico com base em métricas específicas.\n",
    ">\n",
    "> A função `definir_saneamento()` avalia diferentes condições relacionadas ao saneamento básico, como acesso a água potável, esgotamento sanitário e coleta de lixo.\n",
    ">\n",
    "> - Métricas Utilizadas\n",
    "> As métricas utilizadas foram baseadas em questões específicas de um questionário do IBGE relacionadas ao saneamento básico. Essas métricas foram escolhidas por representarem indicadores importantes de acesso a serviços básicos de infraestrutura."
   ]
  },
  {
   "cell_type": "code",
   "execution_count": 22,
   "metadata": {},
   "outputs": [
    {
     "data": {
      "text/plain": [
       "0    2\n",
       "1    2\n",
       "2    2\n",
       "3    2\n",
       "4    2\n",
       "Name: saneamento_basico, dtype: int64"
      ]
     },
     "execution_count": 22,
     "metadata": {},
     "output_type": "execute_result"
    }
   ],
   "source": [
    "def definir_saneamento(row):\n",
    "    # Verificar as condições de saneamento básico\n",
    "    if row['A005012'] == 1 and row['A00601'] == 1 and row['A009010'] in [1, 3, 4]:\n",
    "        if row['A01401'] > 0 and row['A01402'] == 1 and row['A01403'] == 1 and row['A01501'] == 1 and row['A016010'] in [1, 2, 4]:\n",
    "            return 1  # Saneamento básico completo (sim)\n",
    "        else:\n",
    "            return 1  # Saneamento básico parcial (sim)\n",
    "    else:\n",
    "        return 2  # Sem saneamento básico (não)\n",
    "\n",
    "# Criar a coluna 'saneamento_basico' aplicando a função definir_saneamento\n",
    "df['saneamento_basico'] = df.apply(definir_saneamento, axis=1)\n",
    "\n",
    "# Remover as colunas que não serão mais necessárias\n",
    "colunas_para_remover = ['A005012', 'A00601', 'A009010', 'A01401', 'A01402', 'A01403', 'A01501', 'A016010']\n",
    "df.drop(columns=colunas_para_remover, inplace=True)\n",
    "\n",
    "# Exibir as primeiras linhas para verificar a criação da nova coluna\n",
    "df['saneamento_basico'].head()\n"
   ]
  },
  {
   "cell_type": "code",
   "execution_count": 23,
   "metadata": {},
   "outputs": [
    {
     "data": {
      "text/plain": [
       "np.int64(0)"
      ]
     },
     "execution_count": 23,
     "metadata": {},
     "output_type": "execute_result"
    }
   ],
   "source": [
    "# contando valores nulos\n",
    "df['saneamento_basico'].isna().sum()"
   ]
  },
  {
   "cell_type": "code",
   "execution_count": 24,
   "metadata": {},
   "outputs": [
    {
     "data": {
      "text/plain": [
       "saneamento_basico\n",
       "2    62884\n",
       "1      898\n",
       "Name: count, dtype: int64"
      ]
     },
     "execution_count": 24,
     "metadata": {},
     "output_type": "execute_result"
    }
   ],
   "source": [
    "df['saneamento_basico'].value_counts()"
   ]
  },
  {
   "cell_type": "markdown",
   "metadata": {},
   "source": [
    "### Consolidando colunas sobre moradia"
   ]
  },
  {
   "cell_type": "markdown",
   "metadata": {},
   "source": [
    "> Caracterização de Moradia Vulnerável\n",
    ">\n",
    "> - Código\n",
    "> \n",
    ">Nesta célula, foi implementado um código em Python para caracterizar a situação de moradia vulnerável com > base em métricas fornecidas pelo IBGE.\n",
    ">\n",
    ">Foi utilizada uma função que avalia diferentes características do domicílio, como tipo de construção, >materiais utilizados nas paredes, cobertura e piso, além da quantidade de cômodos e dormitórios.\n",
    ">\n",
    "> - Métricas do IBGE\n",
    "> \n",
    ">As métricas utilizadas foram baseadas em questões específicas de um questionário do IBGE relacionadas à habitação e condições de moradia. Essas métricas foram escolhidas por representarem indicadores importantes de vulnerabilidade habitacional.\n"
   ]
  },
  {
   "cell_type": "code",
   "execution_count": 25,
   "metadata": {},
   "outputs": [
    {
     "name": "stdout",
     "output_type": "stream",
     "text": [
      "0    2\n",
      "1    2\n",
      "2    2\n",
      "3    2\n",
      "4    2\n",
      "Name: moradia_vulneravel, dtype: object\n"
     ]
    }
   ],
   "source": [
    "def caracterizar_moradia_vulneravel(row):\n",
    "    tipo_domicilio = row['A001']\n",
    "    material_paredes = row['A002010']\n",
    "    material_cobertura = row['A003010']\n",
    "    material_piso = row['A004010']\n",
    "    num_comodos = row['A01001']\n",
    "    num_dormitorios = row['A011']\n",
    "    \n",
    "    # Verificar as condições de moradia vulnerável\n",
    "    if (tipo_domicilio == 3 or material_paredes in [3, 5] or material_cobertura in [3, 5] or \n",
    "        material_piso in [4] or num_comodos < num_dormitorios):\n",
    "        return '1'  # Moradia vulnerável\n",
    "    else:\n",
    "        return '2'  # Moradia não vulnerável\n",
    "\n",
    "# Criar a coluna 'moradia_vulneravel' aplicando a função caracterizar_moradia_vulneravel\n",
    "df['moradia_vulneravel'] = df.apply(caracterizar_moradia_vulneravel, axis=1)\n",
    "\n",
    "# Remover as colunas que não serão mais necessárias\n",
    "colunas_para_remover = ['A001', 'A002010', 'A003010', 'A004010', 'A01001', 'A011']\n",
    "df.drop(columns=colunas_para_remover, inplace=True)\n",
    "\n",
    "# Exibir as primeiras linhas para verificar a criação da nova coluna\n",
    "print(df['moradia_vulneravel'].head())"
   ]
  },
  {
   "cell_type": "markdown",
   "metadata": {},
   "source": [
    "### Consolidando colunas relacionadas a prática de execícios físicos  "
   ]
  },
  {
   "cell_type": "code",
   "execution_count": 26,
   "metadata": {},
   "outputs": [
    {
     "data": {
      "text/html": [
       "<div>\n",
       "<style scoped>\n",
       "    .dataframe tbody tr th:only-of-type {\n",
       "        vertical-align: middle;\n",
       "    }\n",
       "\n",
       "    .dataframe tbody tr th {\n",
       "        vertical-align: top;\n",
       "    }\n",
       "\n",
       "    .dataframe thead th {\n",
       "        text-align: right;\n",
       "    }\n",
       "</style>\n",
       "<table border=\"1\" class=\"dataframe\">\n",
       "  <thead>\n",
       "    <tr style=\"text-align: right;\">\n",
       "      <th></th>\n",
       "      <th>tempo_total_exercicio</th>\n",
       "      <th>frequencia_exercicio</th>\n",
       "    </tr>\n",
       "  </thead>\n",
       "  <tbody>\n",
       "    <tr>\n",
       "      <th>0</th>\n",
       "      <td>0.5</td>\n",
       "      <td>1.0</td>\n",
       "    </tr>\n",
       "    <tr>\n",
       "      <th>1</th>\n",
       "      <td>NaN</td>\n",
       "      <td>NaN</td>\n",
       "    </tr>\n",
       "    <tr>\n",
       "      <th>2</th>\n",
       "      <td>1.0</td>\n",
       "      <td>3.0</td>\n",
       "    </tr>\n",
       "    <tr>\n",
       "      <th>3</th>\n",
       "      <td>0.5</td>\n",
       "      <td>1.0</td>\n",
       "    </tr>\n",
       "    <tr>\n",
       "      <th>4</th>\n",
       "      <td>2.0</td>\n",
       "      <td>7.0</td>\n",
       "    </tr>\n",
       "  </tbody>\n",
       "</table>\n",
       "</div>"
      ],
      "text/plain": [
       "   tempo_total_exercicio  frequencia_exercicio\n",
       "0                    0.5                   1.0\n",
       "1                    NaN                   NaN\n",
       "2                    1.0                   3.0\n",
       "3                    0.5                   1.0\n",
       "4                    2.0                   7.0"
      ]
     },
     "execution_count": 26,
     "metadata": {},
     "output_type": "execute_result"
    }
   ],
   "source": [
    "df['tempo_total_exercicio'] = df['P03701'] + (df['P03702'] / 60)  # Calcular o tempo total de exercício em horas\n",
    "df['frequencia_exercicio'] = df['P035']  # Frequência de exercícios por semana\n",
    "\n",
    "# Remover as colunas originais que não serão mais necessárias\n",
    "colunas_para_remover = ['P03701', 'P03702', 'P035']\n",
    "df.drop(columns=colunas_para_remover, inplace=True)\n",
    "\n",
    "df[['tempo_total_exercicio', 'frequencia_exercicio']].head()"
   ]
  },
  {
   "cell_type": "code",
   "execution_count": 27,
   "metadata": {},
   "outputs": [
    {
     "data": {
      "text/plain": [
       "tempo_total_exercicio    37621\n",
       "frequencia_exercicio     36655\n",
       "dtype: int64"
      ]
     },
     "execution_count": 27,
     "metadata": {},
     "output_type": "execute_result"
    }
   ],
   "source": [
    "df[['tempo_total_exercicio', 'frequencia_exercicio']].isna().sum()"
   ]
  },
  {
   "cell_type": "markdown",
   "metadata": {},
   "source": [
    "### Consolidando colunas relacionadas ao consumo de bebidas alcolicas"
   ]
  },
  {
   "cell_type": "code",
   "execution_count": 28,
   "metadata": {},
   "outputs": [
    {
     "data": {
      "text/html": [
       "<div>\n",
       "<style scoped>\n",
       "    .dataframe tbody tr th:only-of-type {\n",
       "        vertical-align: middle;\n",
       "    }\n",
       "\n",
       "    .dataframe tbody tr th {\n",
       "        vertical-align: top;\n",
       "    }\n",
       "\n",
       "    .dataframe thead th {\n",
       "        text-align: right;\n",
       "    }\n",
       "</style>\n",
       "<table border=\"1\" class=\"dataframe\">\n",
       "  <thead>\n",
       "    <tr style=\"text-align: right;\">\n",
       "      <th></th>\n",
       "      <th>doses_bebida_alcoolica</th>\n",
       "      <th>freq_bebida_alcoolica</th>\n",
       "    </tr>\n",
       "  </thead>\n",
       "  <tbody>\n",
       "    <tr>\n",
       "      <th>0</th>\n",
       "      <td>NaN</td>\n",
       "      <td>2.0</td>\n",
       "    </tr>\n",
       "    <tr>\n",
       "      <th>1</th>\n",
       "      <td>7.0</td>\n",
       "      <td>3.0</td>\n",
       "    </tr>\n",
       "    <tr>\n",
       "      <th>2</th>\n",
       "      <td>NaN</td>\n",
       "      <td>1.0</td>\n",
       "    </tr>\n",
       "    <tr>\n",
       "      <th>3</th>\n",
       "      <td>NaN</td>\n",
       "      <td>1.0</td>\n",
       "    </tr>\n",
       "    <tr>\n",
       "      <th>4</th>\n",
       "      <td>NaN</td>\n",
       "      <td>1.0</td>\n",
       "    </tr>\n",
       "    <tr>\n",
       "      <th>5</th>\n",
       "      <td>10.0</td>\n",
       "      <td>3.0</td>\n",
       "    </tr>\n",
       "    <tr>\n",
       "      <th>6</th>\n",
       "      <td>0.0</td>\n",
       "      <td>3.0</td>\n",
       "    </tr>\n",
       "    <tr>\n",
       "      <th>7</th>\n",
       "      <td>NaN</td>\n",
       "      <td>1.0</td>\n",
       "    </tr>\n",
       "    <tr>\n",
       "      <th>8</th>\n",
       "      <td>NaN</td>\n",
       "      <td>1.0</td>\n",
       "    </tr>\n",
       "    <tr>\n",
       "      <th>9</th>\n",
       "      <td>NaN</td>\n",
       "      <td>1.0</td>\n",
       "    </tr>\n",
       "  </tbody>\n",
       "</table>\n",
       "</div>"
      ],
      "text/plain": [
       "   doses_bebida_alcoolica  freq_bebida_alcoolica\n",
       "0                     NaN                    2.0\n",
       "1                     7.0                    3.0\n",
       "2                     NaN                    1.0\n",
       "3                     NaN                    1.0\n",
       "4                     NaN                    1.0\n",
       "5                    10.0                    3.0\n",
       "6                     0.0                    3.0\n",
       "7                     NaN                    1.0\n",
       "8                     NaN                    1.0\n",
       "9                     NaN                    1.0"
      ]
     },
     "execution_count": 28,
     "metadata": {},
     "output_type": "execute_result"
    }
   ],
   "source": [
    "# Métricas relacionadas ao consumo de bebidas alcoólicas\n",
    "df['doses_bebida_alcoolica'] = df['P02801'] * df['P029']  # Calcular o total de doses de bebidas alcoólicas por semana\n",
    "df['freq_bebida_alcoolica'] = df['P027']  # Frequência de consumo de bebidas alcoólicas\n",
    "\n",
    "# Remover as colunas originais que não serão mais necessárias\n",
    "colunas_para_remover = ['P02801', 'P029', 'P027']\n",
    "df.drop(columns=colunas_para_remover, inplace=True)\n",
    "\n",
    "df[['doses_bebida_alcoolica', 'freq_bebida_alcoolica']].head(10)"
   ]
  },
  {
   "cell_type": "code",
   "execution_count": 29,
   "metadata": {},
   "outputs": [
    {
     "data": {
      "text/plain": [
       "doses_bebida_alcoolica    43945\n",
       "freq_bebida_alcoolica         0\n",
       "dtype: int64"
      ]
     },
     "execution_count": 29,
     "metadata": {},
     "output_type": "execute_result"
    }
   ],
   "source": [
    "df[['doses_bebida_alcoolica', 'freq_bebida_alcoolica']].isna().sum()"
   ]
  },
  {
   "cell_type": "markdown",
   "metadata": {},
   "source": [
    "### Consolidando colunas sobre alimentação"
   ]
  },
  {
   "cell_type": "code",
   "execution_count": 30,
   "metadata": {},
   "outputs": [],
   "source": [
    "# Consolidando as colunas conforme as novas categorias\n",
    "df['Consumo de Graos e Tuberculos'] = df[['P00601', 'P00602']].sum(axis=1)\n",
    "df['Consumo de Leguminosas'] = df[['P00603', 'P006']].sum(axis=1)\n",
    "df['Consumo de Carnes'] = df[['P00604', 'P01101', 'P013', 'P015']].sum(axis=1)\n",
    "df['Consumo de Ovos'] = df['P00605']\n",
    "df['Consumo de Verduras e Legumes'] = df[['P00607', 'P00608', 'P00609', 'P00901', 'P01001']].sum(axis=1)\n",
    "df['Consumo de Frutas'] = df[['P00610', 'P00611', 'P018', 'P019']].sum(axis=1)\n",
    "df['Consumo de Laticinios'] = df[['P00612', 'P023', 'P02401']].sum(axis=1)\n",
    "df['Consumo de Oleaginosas'] = df['P00613']\n",
    "df['Consumo de Refrigerantes'] = df[['P00614', 'P02002', 'P02102']].sum(axis=1)\n",
    "df['Consumo de Sucos Industrializados'] = df[['P00615', 'P02001', 'P02101']].sum(axis=1)\n",
    "df['Consumo de Sucos Naturais'] = df['P01601']\n",
    "df['Consumo de Bebidas Lacteas'] = df['P00616']\n",
    "df['Consumo de Salgadinhos e Biscoitos Salgados'] = df['P00617']\n",
    "df['Consumo de Doces e Sobremesas Industrializadas'] = df[['P00618', 'P00619', 'P02501']].sum(axis=1)\n",
    "df['Consumo de Embutidos e Alimentos Processados'] = df[['P00620', 'P00623']].sum(axis=1)\n",
    "df['Consumo de Paes Industrializados'] = df['P00621']\n",
    "df['Consumo de Molhos Industrializados'] = df['P00622']\n",
    "df['Substituicao de Refeicoes por Lanches Rapidos'] = df['P02602']\n",
    "df['Consumo de Sal'] = df['P02601']\n",
    "\n",
    "\n",
    "# Removendo as colunas que não serão mais usadas\n",
    "colunas_para_remover = [\n",
    "    'P00601', 'P00602', 'P00603', 'P00604', 'P00605', 'P00607', 'P00608', \n",
    "    'P00609', 'P00610', 'P00611', 'P00612', 'P00613', 'P00614', 'P00615', \n",
    "    'P00616', 'P00617', 'P00618', 'P00619', 'P00620', 'P00621', 'P00622', \n",
    "    'P00623', 'P006', 'P00901', 'P01001', 'P01101', 'P013', 'P015', \n",
    "    'P02001', 'P02101', 'P01601', 'P018', 'P019', 'P02002', 'P02102', \n",
    "    'P023', 'P02401', 'P02501', 'P02602', 'P02601'\n",
    "]\n",
    "df.drop(columns=colunas_para_remover, inplace=True)"
   ]
  },
  {
   "cell_type": "markdown",
   "metadata": {},
   "source": [
    "### Removendo colunas irrelevantes"
   ]
  },
  {
   "cell_type": "code",
   "execution_count": 31,
   "metadata": {},
   "outputs": [],
   "source": [
    "# Lista das colunas a serem removidas\n",
    "colunas_para_remover = ['E01801', 'E01803', 'E01805', 'E01201', 'F001011', 'F007011', 'F008011', 'VDF001', \n",
    "                        'Q09301', 'Q094', 'Q09502', 'Q09605', 'Q09606', 'Q09607', 'Q098', 'Q100', \n",
    "                        'Q10101', 'Q10202', 'Q104', 'Q105', 'Q106', 'Q10701', 'Q109','E01604', 'E01603',\n",
    "                        ]\n",
    "\n",
    "# Remover as colunas especificadas\n",
    "df.drop(columns=colunas_para_remover, inplace=True)"
   ]
  },
  {
   "cell_type": "markdown",
   "metadata": {},
   "source": [
    "### Renomeando Colunas\n",
    "> Renomeando nossas colunas para facilitar o entendimento"
   ]
  },
  {
   "cell_type": "code",
   "execution_count": 32,
   "metadata": {},
   "outputs": [
    {
     "data": {
      "text/html": [
       "<div>\n",
       "<style scoped>\n",
       "    .dataframe tbody tr th:only-of-type {\n",
       "        vertical-align: middle;\n",
       "    }\n",
       "\n",
       "    .dataframe tbody tr th {\n",
       "        vertical-align: top;\n",
       "    }\n",
       "\n",
       "    .dataframe thead th {\n",
       "        text-align: right;\n",
       "    }\n",
       "</style>\n",
       "<table border=\"1\" class=\"dataframe\">\n",
       "  <thead>\n",
       "    <tr style=\"text-align: right;\">\n",
       "      <th></th>\n",
       "      <th>Sexo</th>\n",
       "      <th>Apoio_Familiar</th>\n",
       "      <th>Apoio_de_Amigos</th>\n",
       "      <th>Tipo_de_Trabalho</th>\n",
       "      <th>Trabalhador_Nao_Remunerado</th>\n",
       "      <th>Horas_Trabalhadas_Noite</th>\n",
       "      <th>Freq_Trabalho_Noite</th>\n",
       "      <th>Curso_Mais_Elevado</th>\n",
       "      <th>Diagnostico_Depressao</th>\n",
       "      <th>Estado_de_Saude</th>\n",
       "      <th>...</th>\n",
       "      <th>Consumo de Sucos Industrializados</th>\n",
       "      <th>Consumo de Sucos Naturais</th>\n",
       "      <th>Consumo de Bebidas Lacteas</th>\n",
       "      <th>Consumo de Salgadinhos e Biscoitos Salgados</th>\n",
       "      <th>Consumo de Doces e Sobremesas Industrializadas</th>\n",
       "      <th>Consumo de Embutidos e Alimentos Processados</th>\n",
       "      <th>Consumo de Paes Industrializados</th>\n",
       "      <th>Consumo de Molhos Industrializados</th>\n",
       "      <th>Substituicao de Refeicoes por Lanches Rapidos</th>\n",
       "      <th>Consumo de Sal</th>\n",
       "    </tr>\n",
       "  </thead>\n",
       "  <tbody>\n",
       "    <tr>\n",
       "      <th>0</th>\n",
       "      <td>2.0</td>\n",
       "      <td>3.0</td>\n",
       "      <td>0.0</td>\n",
       "      <td>6.0</td>\n",
       "      <td>NaN</td>\n",
       "      <td>NaN</td>\n",
       "      <td>NaN</td>\n",
       "      <td>5.0</td>\n",
       "      <td>1.0</td>\n",
       "      <td>3.0</td>\n",
       "      <td>...</td>\n",
       "      <td>10.0</td>\n",
       "      <td>0.0</td>\n",
       "      <td>2.0</td>\n",
       "      <td>2.0</td>\n",
       "      <td>4.0</td>\n",
       "      <td>4.0</td>\n",
       "      <td>2.0</td>\n",
       "      <td>1.0</td>\n",
       "      <td>0.0</td>\n",
       "      <td>3.0</td>\n",
       "    </tr>\n",
       "    <tr>\n",
       "      <th>1</th>\n",
       "      <td>2.0</td>\n",
       "      <td>1.0</td>\n",
       "      <td>1.0</td>\n",
       "      <td>3.0</td>\n",
       "      <td>NaN</td>\n",
       "      <td>NaN</td>\n",
       "      <td>NaN</td>\n",
       "      <td>10.0</td>\n",
       "      <td>2.0</td>\n",
       "      <td>1.0</td>\n",
       "      <td>...</td>\n",
       "      <td>2.0</td>\n",
       "      <td>7.0</td>\n",
       "      <td>1.0</td>\n",
       "      <td>2.0</td>\n",
       "      <td>4.0</td>\n",
       "      <td>3.0</td>\n",
       "      <td>2.0</td>\n",
       "      <td>2.0</td>\n",
       "      <td>0.0</td>\n",
       "      <td>4.0</td>\n",
       "    </tr>\n",
       "    <tr>\n",
       "      <th>2</th>\n",
       "      <td>2.0</td>\n",
       "      <td>1.0</td>\n",
       "      <td>0.0</td>\n",
       "      <td>3.0</td>\n",
       "      <td>NaN</td>\n",
       "      <td>NaN</td>\n",
       "      <td>NaN</td>\n",
       "      <td>4.0</td>\n",
       "      <td>2.0</td>\n",
       "      <td>3.0</td>\n",
       "      <td>...</td>\n",
       "      <td>2.0</td>\n",
       "      <td>3.0</td>\n",
       "      <td>2.0</td>\n",
       "      <td>2.0</td>\n",
       "      <td>4.0</td>\n",
       "      <td>4.0</td>\n",
       "      <td>2.0</td>\n",
       "      <td>2.0</td>\n",
       "      <td>0.0</td>\n",
       "      <td>3.0</td>\n",
       "    </tr>\n",
       "    <tr>\n",
       "      <th>3</th>\n",
       "      <td>2.0</td>\n",
       "      <td>3.0</td>\n",
       "      <td>0.0</td>\n",
       "      <td>NaN</td>\n",
       "      <td>NaN</td>\n",
       "      <td>NaN</td>\n",
       "      <td>NaN</td>\n",
       "      <td>NaN</td>\n",
       "      <td>2.0</td>\n",
       "      <td>2.0</td>\n",
       "      <td>...</td>\n",
       "      <td>6.0</td>\n",
       "      <td>4.0</td>\n",
       "      <td>2.0</td>\n",
       "      <td>2.0</td>\n",
       "      <td>5.0</td>\n",
       "      <td>4.0</td>\n",
       "      <td>2.0</td>\n",
       "      <td>2.0</td>\n",
       "      <td>0.0</td>\n",
       "      <td>3.0</td>\n",
       "    </tr>\n",
       "    <tr>\n",
       "      <th>4</th>\n",
       "      <td>2.0</td>\n",
       "      <td>3.0</td>\n",
       "      <td>0.0</td>\n",
       "      <td>3.0</td>\n",
       "      <td>NaN</td>\n",
       "      <td>NaN</td>\n",
       "      <td>NaN</td>\n",
       "      <td>10.0</td>\n",
       "      <td>2.0</td>\n",
       "      <td>2.0</td>\n",
       "      <td>...</td>\n",
       "      <td>2.0</td>\n",
       "      <td>7.0</td>\n",
       "      <td>2.0</td>\n",
       "      <td>2.0</td>\n",
       "      <td>5.0</td>\n",
       "      <td>4.0</td>\n",
       "      <td>2.0</td>\n",
       "      <td>2.0</td>\n",
       "      <td>0.0</td>\n",
       "      <td>3.0</td>\n",
       "    </tr>\n",
       "  </tbody>\n",
       "</table>\n",
       "<p>5 rows × 51 columns</p>\n",
       "</div>"
      ],
      "text/plain": [
       "   Sexo  Apoio_Familiar  Apoio_de_Amigos  Tipo_de_Trabalho  \\\n",
       "0   2.0             3.0              0.0               6.0   \n",
       "1   2.0             1.0              1.0               3.0   \n",
       "2   2.0             1.0              0.0               3.0   \n",
       "3   2.0             3.0              0.0               NaN   \n",
       "4   2.0             3.0              0.0               3.0   \n",
       "\n",
       "   Trabalhador_Nao_Remunerado  Horas_Trabalhadas_Noite  Freq_Trabalho_Noite  \\\n",
       "0                         NaN                      NaN                  NaN   \n",
       "1                         NaN                      NaN                  NaN   \n",
       "2                         NaN                      NaN                  NaN   \n",
       "3                         NaN                      NaN                  NaN   \n",
       "4                         NaN                      NaN                  NaN   \n",
       "\n",
       "   Curso_Mais_Elevado  Diagnostico_Depressao  Estado_de_Saude  ...  \\\n",
       "0                 5.0                    1.0              3.0  ...   \n",
       "1                10.0                    2.0              1.0  ...   \n",
       "2                 4.0                    2.0              3.0  ...   \n",
       "3                 NaN                    2.0              2.0  ...   \n",
       "4                10.0                    2.0              2.0  ...   \n",
       "\n",
       "   Consumo de Sucos Industrializados  Consumo de Sucos Naturais  \\\n",
       "0                               10.0                        0.0   \n",
       "1                                2.0                        7.0   \n",
       "2                                2.0                        3.0   \n",
       "3                                6.0                        4.0   \n",
       "4                                2.0                        7.0   \n",
       "\n",
       "   Consumo de Bebidas Lacteas  Consumo de Salgadinhos e Biscoitos Salgados  \\\n",
       "0                         2.0                                          2.0   \n",
       "1                         1.0                                          2.0   \n",
       "2                         2.0                                          2.0   \n",
       "3                         2.0                                          2.0   \n",
       "4                         2.0                                          2.0   \n",
       "\n",
       "   Consumo de Doces e Sobremesas Industrializadas  \\\n",
       "0                                             4.0   \n",
       "1                                             4.0   \n",
       "2                                             4.0   \n",
       "3                                             5.0   \n",
       "4                                             5.0   \n",
       "\n",
       "   Consumo de Embutidos e Alimentos Processados  \\\n",
       "0                                           4.0   \n",
       "1                                           3.0   \n",
       "2                                           4.0   \n",
       "3                                           4.0   \n",
       "4                                           4.0   \n",
       "\n",
       "   Consumo de Paes Industrializados  Consumo de Molhos Industrializados  \\\n",
       "0                               2.0                                 1.0   \n",
       "1                               2.0                                 2.0   \n",
       "2                               2.0                                 2.0   \n",
       "3                               2.0                                 2.0   \n",
       "4                               2.0                                 2.0   \n",
       "\n",
       "   Substituicao de Refeicoes por Lanches Rapidos  Consumo de Sal  \n",
       "0                                            0.0             3.0  \n",
       "1                                            0.0             4.0  \n",
       "2                                            0.0             3.0  \n",
       "3                                            0.0             3.0  \n",
       "4                                            0.0             3.0  \n",
       "\n",
       "[5 rows x 51 columns]"
      ]
     },
     "execution_count": 32,
     "metadata": {},
     "output_type": "execute_result"
    }
   ],
   "source": [
    "df.rename(columns={\n",
    "    'C006': 'Sexo',\n",
    "    'M01401': 'Apoio_Familiar',\n",
    "    'M01501': 'Apoio_de_Amigos',\n",
    "    'E01401': 'Tipo_de_Trabalho',\n",
    "    'E014011': 'Trabalhador_Nao_Remunerado',\n",
    "    'M005011': 'Horas_Trabalhadas_Noite',\n",
    "    'M00601': 'Freq_Trabalho_Noite',\n",
    "    'D00901': 'Curso_Mais_Elevado',\n",
    "    'Q092': 'Diagnostico_Depressao',\n",
    "    'N00101': 'Estado_de_Saude',\n",
    "    'P034': 'Pratica_Exercicio',\n",
    "    'P036': 'Exercicio_Mais_Frequente',\n",
    "    'J00402': 'Motivo_Impedimento_Atividades',\n",
    "    'J01101': 'Ultima_Consulta_Medica',\n",
    "    'J014': 'Procura_Atendimento_Saude',\n",
    "    'J01502': 'Motivo_Atendimento_Saude',\n",
    "    'H024': 'Orientacoes_Saude',\n",
    "    'N010': 'Problemas_Sono',\n",
    "   \n",
    "   \n",
    "}, inplace=True)\n",
    "\n",
    "# Exibir as primeiras linhas para verificar as colunas renomeadas\n",
    "df.head()"
   ]
  },
  {
   "cell_type": "code",
   "execution_count": 33,
   "metadata": {},
   "outputs": [
    {
     "data": {
      "text/plain": [
       "Index(['Sexo', 'Apoio_Familiar', 'Apoio_de_Amigos', 'Tipo_de_Trabalho',\n",
       "       'Trabalhador_Nao_Remunerado', 'Horas_Trabalhadas_Noite',\n",
       "       'Freq_Trabalho_Noite', 'Curso_Mais_Elevado', 'Diagnostico_Depressao',\n",
       "       'Estado_de_Saude', 'Pratica_Exercicio', 'Exercicio_Mais_Frequente',\n",
       "       'Motivo_Impedimento_Atividades', 'Ultima_Consulta_Medica',\n",
       "       'Procura_Atendimento_Saude', 'Motivo_Atendimento_Saude',\n",
       "       'Orientacoes_Saude', 'Problemas_Sono', 'peso_consolidado(KG)',\n",
       "       'altura_consolidada(CM)', 'IMC', 'renda_total', 'idade', 'trabalhou',\n",
       "       'horas_trabalhadas_total', 'doencas_cronicas', 'saneamento_basico',\n",
       "       'moradia_vulneravel', 'tempo_total_exercicio', 'frequencia_exercicio',\n",
       "       'doses_bebida_alcoolica', 'freq_bebida_alcoolica',\n",
       "       'Consumo de Graos e Tuberculos', 'Consumo de Leguminosas',\n",
       "       'Consumo de Carnes', 'Consumo de Ovos', 'Consumo de Verduras e Legumes',\n",
       "       'Consumo de Frutas', 'Consumo de Laticinios', 'Consumo de Oleaginosas',\n",
       "       'Consumo de Refrigerantes', 'Consumo de Sucos Industrializados',\n",
       "       'Consumo de Sucos Naturais', 'Consumo de Bebidas Lacteas',\n",
       "       'Consumo de Salgadinhos e Biscoitos Salgados',\n",
       "       'Consumo de Doces e Sobremesas Industrializadas',\n",
       "       'Consumo de Embutidos e Alimentos Processados',\n",
       "       'Consumo de Paes Industrializados',\n",
       "       'Consumo de Molhos Industrializados',\n",
       "       'Substituicao de Refeicoes por Lanches Rapidos', 'Consumo de Sal'],\n",
       "      dtype='object')"
      ]
     },
     "execution_count": 33,
     "metadata": {},
     "output_type": "execute_result"
    }
   ],
   "source": [
    "df.columns"
   ]
  },
  {
   "cell_type": "code",
   "execution_count": 34,
   "metadata": {},
   "outputs": [],
   "source": [
    "# Construindo o caminho para o arquivo CSV usando o caminho relativo\n",
    "caminho = os.path.join(diretorio_atual,'..','..','..','..' ,'Data', 'Bases Modificadas', 'base_consolidada.csv')\n",
    "\n",
    "# Exportando o arquivo CSV\n",
    "df.to_csv(caminho, index= False)"
   ]
  }
 ],
 "metadata": {
  "kernelspec": {
   "display_name": "Python 3",
   "language": "python",
   "name": "python3"
  },
  "language_info": {
   "codemirror_mode": {
    "name": "ipython",
    "version": 3
   },
   "file_extension": ".py",
   "mimetype": "text/x-python",
   "name": "python",
   "nbconvert_exporter": "python",
   "pygments_lexer": "ipython3",
   "version": "3.11.9"
  }
 },
 "nbformat": 4,
 "nbformat_minor": 2
}
